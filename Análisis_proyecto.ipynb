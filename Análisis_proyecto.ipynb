{
 "cells": [
  {
   "cell_type": "code",
   "execution_count": 2,
   "metadata": {},
   "outputs": [],
   "source": [
    "import numpy as np\n",
    "import pandas as pd\n",
    "\n",
    "import matplotlib.pyplot as plt\n",
    "import seaborn as sns\n",
    "\n",
    "from sklearn.ensemble import RandomForestRegressor\n",
    "from sklearn.model_selection import train_test_split\n",
    "from sklearn.preprocessing import LabelEncoder,scale\n",
    "from sklearn.metrics import  confusion_matrix, silhouette_samples, silhouette_score\n",
    "from sklearn.linear_model import LogisticRegression\n",
    "from sklearn.model_selection import cross_val_score\n",
    "from sklearn.tree import DecisionTreeRegressor\n",
    "from sklearn.cluster import KMeans\n",
    "from scipy.spatial.distance import pdist\n",
    "from sklearn.tree import DecisionTreeClassifier\n",
    "from sklearn.naive_bayes import CategoricalNB\n",
    "import warnings\n"
   ]
  },
  {
   "cell_type": "code",
   "execution_count": null,
   "metadata": {},
   "outputs": [],
   "source": []
  },
  {
   "cell_type": "markdown",
   "metadata": {},
   "source": [
    "### Funciones"
   ]
  },
  {
   "cell_type": "code",
   "execution_count": 3,
   "metadata": {},
   "outputs": [],
   "source": [
    "def creacion_listas(target,excepcion,nas):\n",
    "    lista_columnas = diccionario[target]\n",
    "    lista_columnas\n",
    "    for item in lista_columnas:\n",
    "        if item in nas:\n",
    "            if item in excepcion:\n",
    "                pass\n",
    "            else:\n",
    "                lista_columnas.remove(item)\n",
    "    lista_columnas.append(target)\n",
    "    return(lista_columnas.copy())"
   ]
  },
  {
   "cell_type": "markdown",
   "metadata": {},
   "source": [
    "### Cargando datos y separandolos"
   ]
  },
  {
   "cell_type": "code",
   "execution_count": 4,
   "metadata": {},
   "outputs": [
    {
     "name": "stderr",
     "output_type": "stream",
     "text": [
      "D:\\Users\\atool\\anaconda3\\lib\\site-packages\\IPython\\core\\interactiveshell.py:3165: DtypeWarning: Columns (17,28) have mixed types.Specify dtype option on import or set low_memory=False.\n",
      "  has_raised = await self.run_ast_nodes(code_ast.body, cell_name,\n"
     ]
    }
   ],
   "source": [
    "df=pd.read_csv(\"D:/AxelFolder/University/mineria_de_datos/ProyectoDataMining/defunciones/Defunciones.csv\", header = \"infer\", delimiter = \",\", encoding = \"latin-1\")"
   ]
  },
  {
   "cell_type": "code",
   "execution_count": 5,
   "metadata": {},
   "outputs": [
    {
     "data": {
      "text/html": [
       "<div>\n",
       "<style scoped>\n",
       "    .dataframe tbody tr th:only-of-type {\n",
       "        vertical-align: middle;\n",
       "    }\n",
       "\n",
       "    .dataframe tbody tr th {\n",
       "        vertical-align: top;\n",
       "    }\n",
       "\n",
       "    .dataframe thead th {\n",
       "        text-align: right;\n",
       "    }\n",
       "</style>\n",
       "<table border=\"1\" class=\"dataframe\">\n",
       "  <thead>\n",
       "    <tr style=\"text-align: right;\">\n",
       "      <th></th>\n",
       "      <th>depreg</th>\n",
       "      <th>mupreg</th>\n",
       "      <th>mesreg</th>\n",
       "      <th>añoreg</th>\n",
       "      <th>depocu</th>\n",
       "      <th>mupocu</th>\n",
       "      <th>areag</th>\n",
       "      <th>sexo</th>\n",
       "      <th>diaocu</th>\n",
       "      <th>mesocu</th>\n",
       "      <th>...</th>\n",
       "      <th>dredif</th>\n",
       "      <th>mredif</th>\n",
       "      <th>caudef</th>\n",
       "      <th>asist</th>\n",
       "      <th>ocur</th>\n",
       "      <th>cerdef</th>\n",
       "      <th>escodif</th>\n",
       "      <th>pnadif</th>\n",
       "      <th>predif</th>\n",
       "      <th>ciuodif</th>\n",
       "    </tr>\n",
       "  </thead>\n",
       "  <tbody>\n",
       "    <tr>\n",
       "      <th>0</th>\n",
       "      <td>5</td>\n",
       "      <td>505</td>\n",
       "      <td>1</td>\n",
       "      <td>9</td>\n",
       "      <td>5</td>\n",
       "      <td>505</td>\n",
       "      <td>9.0</td>\n",
       "      <td>1</td>\n",
       "      <td>2</td>\n",
       "      <td>1</td>\n",
       "      <td>...</td>\n",
       "      <td>1</td>\n",
       "      <td>101</td>\n",
       "      <td>Y214</td>\n",
       "      <td>1</td>\n",
       "      <td>3</td>\n",
       "      <td>1</td>\n",
       "      <td>NaN</td>\n",
       "      <td>NaN</td>\n",
       "      <td>NaN</td>\n",
       "      <td>NaN</td>\n",
       "    </tr>\n",
       "    <tr>\n",
       "      <th>1</th>\n",
       "      <td>1</td>\n",
       "      <td>101</td>\n",
       "      <td>9</td>\n",
       "      <td>9</td>\n",
       "      <td>1</td>\n",
       "      <td>101</td>\n",
       "      <td>9.0</td>\n",
       "      <td>1</td>\n",
       "      <td>27</td>\n",
       "      <td>9</td>\n",
       "      <td>...</td>\n",
       "      <td>1</td>\n",
       "      <td>101</td>\n",
       "      <td>X919</td>\n",
       "      <td>4</td>\n",
       "      <td>3</td>\n",
       "      <td>1</td>\n",
       "      <td>NaN</td>\n",
       "      <td>NaN</td>\n",
       "      <td>NaN</td>\n",
       "      <td>NaN</td>\n",
       "    </tr>\n",
       "    <tr>\n",
       "      <th>2</th>\n",
       "      <td>22</td>\n",
       "      <td>2206</td>\n",
       "      <td>9</td>\n",
       "      <td>9</td>\n",
       "      <td>22</td>\n",
       "      <td>2206</td>\n",
       "      <td>9.0</td>\n",
       "      <td>2</td>\n",
       "      <td>23</td>\n",
       "      <td>8</td>\n",
       "      <td>...</td>\n",
       "      <td>1</td>\n",
       "      <td>101</td>\n",
       "      <td>X959</td>\n",
       "      <td>4</td>\n",
       "      <td>3</td>\n",
       "      <td>2</td>\n",
       "      <td>NaN</td>\n",
       "      <td>NaN</td>\n",
       "      <td>NaN</td>\n",
       "      <td>NaN</td>\n",
       "    </tr>\n",
       "    <tr>\n",
       "      <th>3</th>\n",
       "      <td>2</td>\n",
       "      <td>201</td>\n",
       "      <td>12</td>\n",
       "      <td>9</td>\n",
       "      <td>2</td>\n",
       "      <td>201</td>\n",
       "      <td>9.0</td>\n",
       "      <td>1</td>\n",
       "      <td>5</td>\n",
       "      <td>12</td>\n",
       "      <td>...</td>\n",
       "      <td>1</td>\n",
       "      <td>101</td>\n",
       "      <td>V899</td>\n",
       "      <td>4</td>\n",
       "      <td>3</td>\n",
       "      <td>1</td>\n",
       "      <td>NaN</td>\n",
       "      <td>NaN</td>\n",
       "      <td>NaN</td>\n",
       "      <td>NaN</td>\n",
       "    </tr>\n",
       "    <tr>\n",
       "      <th>4</th>\n",
       "      <td>1</td>\n",
       "      <td>101</td>\n",
       "      <td>5</td>\n",
       "      <td>9</td>\n",
       "      <td>1</td>\n",
       "      <td>101</td>\n",
       "      <td>9.0</td>\n",
       "      <td>2</td>\n",
       "      <td>7</td>\n",
       "      <td>5</td>\n",
       "      <td>...</td>\n",
       "      <td>1</td>\n",
       "      <td>101</td>\n",
       "      <td>X709</td>\n",
       "      <td>4</td>\n",
       "      <td>3</td>\n",
       "      <td>1</td>\n",
       "      <td>NaN</td>\n",
       "      <td>NaN</td>\n",
       "      <td>NaN</td>\n",
       "      <td>NaN</td>\n",
       "    </tr>\n",
       "  </tbody>\n",
       "</table>\n",
       "<p>5 rows × 29 columns</p>\n",
       "</div>"
      ],
      "text/plain": [
       "   depreg  mupreg  mesreg  añoreg  depocu  mupocu  areag  sexo  diaocu  \\\n",
       "0       5     505       1       9       5     505    9.0     1       2   \n",
       "1       1     101       9       9       1     101    9.0     1      27   \n",
       "2      22    2206       9       9      22    2206    9.0     2      23   \n",
       "3       2     201      12       9       2     201    9.0     1       5   \n",
       "4       1     101       5       9       1     101    9.0     2       7   \n",
       "\n",
       "   mesocu  ...  dredif  mredif  caudef  asist  ocur  cerdef  escodif pnadif  \\\n",
       "0       1  ...       1     101    Y214      1     3       1      NaN    NaN   \n",
       "1       9  ...       1     101    X919      4     3       1      NaN    NaN   \n",
       "2       8  ...       1     101    X959      4     3       2      NaN    NaN   \n",
       "3      12  ...       1     101    V899      4     3       1      NaN    NaN   \n",
       "4       5  ...       1     101    X709      4     3       1      NaN    NaN   \n",
       "\n",
       "   predif  ciuodif  \n",
       "0     NaN      NaN  \n",
       "1     NaN      NaN  \n",
       "2     NaN      NaN  \n",
       "3     NaN      NaN  \n",
       "4     NaN      NaN  \n",
       "\n",
       "[5 rows x 29 columns]"
      ]
     },
     "execution_count": 5,
     "metadata": {},
     "output_type": "execute_result"
    }
   ],
   "source": [
    "df.head()"
   ]
  },
  {
   "cell_type": "code",
   "execution_count": 6,
   "metadata": {},
   "outputs": [
    {
     "data": {
      "text/plain": [
       "depreg          0\n",
       "mupreg          0\n",
       "mesreg          0\n",
       "añoreg          0\n",
       "depocu          0\n",
       "mupocu          0\n",
       "areag      168671\n",
       "sexo            0\n",
       "diaocu          0\n",
       "mesocu          0\n",
       "añoocu          0\n",
       "edadif          0\n",
       "perdif          0\n",
       "puedif          0\n",
       "ecidif          0\n",
       "ocudif     565215\n",
       "dnadif          0\n",
       "mnadif          0\n",
       "nacdif          0\n",
       "dredif          0\n",
       "mredif          0\n",
       "caudef          0\n",
       "asist           0\n",
       "ocur            0\n",
       "cerdef          0\n",
       "escodif     71707\n",
       "pnadif     216809\n",
       "predif     216809\n",
       "ciuodif    289466\n",
       "dtype: int64"
      ]
     },
     "execution_count": 6,
     "metadata": {},
     "output_type": "execute_result"
    }
   ],
   "source": [
    "df.isna().sum()"
   ]
  },
  {
   "cell_type": "code",
   "execution_count": 7,
   "metadata": {},
   "outputs": [
    {
     "data": {
      "text/plain": [
       "854681"
      ]
     },
     "execution_count": 7,
     "metadata": {},
     "output_type": "execute_result"
    }
   ],
   "source": [
    "len(df)"
   ]
  },
  {
   "cell_type": "code",
   "execution_count": 8,
   "metadata": {},
   "outputs": [],
   "source": [
    "o=df.isnull()\n",
    "\n",
    "mask=o.any(axis = 1)"
   ]
  },
  {
   "cell_type": "code",
   "execution_count": 9,
   "metadata": {},
   "outputs": [],
   "source": [
    "muchos_nas = df.columns[df.isna().any()].tolist()"
   ]
  },
  {
   "cell_type": "code",
   "execution_count": 10,
   "metadata": {},
   "outputs": [
    {
     "data": {
      "text/plain": [
       "Index(['depreg', 'mupreg', 'mesreg', 'añoreg', 'depocu', 'mupocu', 'areag',\n",
       "       'sexo', 'diaocu', 'mesocu', 'añoocu', 'edadif', 'perdif', 'puedif',\n",
       "       'ecidif', 'ocudif', 'dnadif', 'mnadif', 'nacdif', 'dredif', 'mredif',\n",
       "       'caudef', 'asist', 'ocur', 'cerdef', 'escodif', 'pnadif', 'predif',\n",
       "       'ciuodif'],\n",
       "      dtype='object')"
      ]
     },
     "execution_count": 10,
     "metadata": {},
     "output_type": "execute_result"
    }
   ],
   "source": [
    "columnas = df.columns\n",
    "columnas"
   ]
  },
  {
   "cell_type": "code",
   "execution_count": 11,
   "metadata": {},
   "outputs": [
    {
     "data": {
      "text/plain": [
       "array([ 9, 10, 11, 12, 13, 14, 15, 16, 17, 18, 19], dtype=int64)"
      ]
     },
     "execution_count": 11,
     "metadata": {},
     "output_type": "execute_result"
    }
   ],
   "source": [
    "df[\"añoreg\"].unique()"
   ]
  },
  {
   "cell_type": "code",
   "execution_count": 12,
   "metadata": {},
   "outputs": [
    {
     "data": {
      "text/plain": [
       "array([ 9, 10, 11, 12, 13, 14, 15, 16, 17, 18, 19], dtype=int64)"
      ]
     },
     "execution_count": 12,
     "metadata": {},
     "output_type": "execute_result"
    }
   ],
   "source": [
    "df[\"añoocu\"].unique()"
   ]
  },
  {
   "cell_type": "code",
   "execution_count": 13,
   "metadata": {},
   "outputs": [],
   "source": [
    "x=np.array([[0],[1],[2],[3],[4]]*6).reshape(30)\n",
    "y =np.array([[0],[1],[2],[3],[4],[5]]*5).reshape(30)\n",
    "            \n"
   ]
  },
  {
   "cell_type": "markdown",
   "metadata": {},
   "source": [
    "### Creando un nuevo data frame con menos datos"
   ]
  },
  {
   "cell_type": "code",
   "execution_count": 14,
   "metadata": {},
   "outputs": [
    {
     "data": {
      "text/plain": [
       "depreg       int64\n",
       "mupreg       int64\n",
       "mesreg       int64\n",
       "añoreg       int64\n",
       "depocu       int64\n",
       "mupocu       int64\n",
       "areag      float64\n",
       "sexo         int64\n",
       "diaocu       int64\n",
       "mesocu       int64\n",
       "añoocu       int64\n",
       "edadif       int64\n",
       "perdif       int64\n",
       "puedif       int64\n",
       "ecidif       int64\n",
       "ocudif     float64\n",
       "dnadif       int64\n",
       "mnadif      object\n",
       "nacdif       int64\n",
       "dredif       int64\n",
       "mredif       int64\n",
       "caudef      object\n",
       "asist        int64\n",
       "ocur         int64\n",
       "cerdef       int64\n",
       "escodif    float64\n",
       "pnadif     float64\n",
       "predif     float64\n",
       "ciuodif     object\n",
       "dtype: object"
      ]
     },
     "execution_count": 14,
     "metadata": {},
     "output_type": "execute_result"
    }
   ],
   "source": [
    "df2 =  df.sample(n = 400000, random_state = 666)\n",
    "df3 =  df.sample(n = 100000, random_state = 666)\n",
    "df2.dtypes"
   ]
  },
  {
   "cell_type": "code",
   "execution_count": 15,
   "metadata": {},
   "outputs": [
    {
     "data": {
      "text/plain": [
       "400000"
      ]
     },
     "execution_count": 15,
     "metadata": {},
     "output_type": "execute_result"
    }
   ],
   "source": [
    "len(df2)"
   ]
  },
  {
   "cell_type": "code",
   "execution_count": 16,
   "metadata": {},
   "outputs": [],
   "source": [
    "df2_numeric = df2.select_dtypes(include = np.number)"
   ]
  },
  {
   "cell_type": "code",
   "execution_count": 17,
   "metadata": {},
   "outputs": [],
   "source": [
    "columnas_numericas  = df2_numeric.columns"
   ]
  },
  {
   "cell_type": "code",
   "execution_count": 17,
   "metadata": {},
   "outputs": [],
   "source": [
    "#contador = 0\n",
    "#fig, axs = plt.subplots(5,6, figsize=(30,30))\n",
    "#for i in range(0,len(columnas)):\n",
    "    #sns.barplot(ax = axs[x[i],y[i]],data =df2_numeric, x = columnas_numericas[i], hue =  \"añoreg\")\n",
    "    #axs[x[i],y[i]].set_title(columnas[i], fontsize = \"xx-large\")\n",
    "\n"
   ]
  },
  {
   "cell_type": "code",
   "execution_count": 18,
   "metadata": {},
   "outputs": [],
   "source": [
    "o = pd.DataFrame()"
   ]
  },
  {
   "cell_type": "code",
   "execution_count": 19,
   "metadata": {},
   "outputs": [],
   "source": [
    "plt.ioff()"
   ]
  },
  {
   "cell_type": "markdown",
   "metadata": {},
   "source": [
    "### Generando gráficas para explorar datos"
   ]
  },
  {
   "cell_type": "code",
   "execution_count": 20,
   "metadata": {},
   "outputs": [],
   "source": [
    "for i in range(0,len(columnas)):\n",
    "    fig,axs = plt.subplots(figsize=(17.5,10))\n",
    "    sns.barplot(ax = axs,\n",
    "                data =df2, \n",
    "                x = columnas[i],\n",
    "                y = \"escodif\", \n",
    "                hue = \"escodif\",\n",
    "                estimator=lambda x: len(x) / len(df2) * 100)\n",
    "    plt.tight_layout()\n",
    "    axs.set_ylabel(\"Porcentaje\", fontsize = \"xx-large\")\n",
    "    axs.set_xlabel(columnas[i], fontsize = \"xx-large\")\n",
    "    fig.suptitle(columnas[i], fontsize = \"xx-large\")\n",
    "    fig.legend(fontsize = \"xx-large\")\n",
    "    fig.savefig(\"D:/AxelFolder/University/mineria_de_datos/ProyectoDataMining/Imagenes/\"+columnas[i]+\"_hue=puedif.jpg\", bbox_inches ='tight')\n",
    "    plt.close(fig)"
   ]
  },
  {
   "cell_type": "markdown",
   "metadata": {},
   "source": [
    "En este caso no usamos df2 si no, df2_encoder. Sin embargo este data frame se definió más abajo. Esto se hizo porque en  un prinipio se utilizó countplots que admitían variables tipo string, pero con barplot se tenía que cambiar esto. Sin embargo, al mover las celdas para que tuvieran mas coherencia el algoritmo empezó a generar muchos errores. Por lo que de se dejó de esta forma aunque perdiese coherencia el algoritmo. "
   ]
  },
  {
   "cell_type": "code",
   "execution_count": 27,
   "metadata": {},
   "outputs": [],
   "source": [
    "for i in range(0,len(columnas)):\n",
    "    fig,ax1 = plt.subplots(figsize=(10,10))\n",
    "    \n",
    "    sns.barplot(ax = ax1,\n",
    "                  data =df2_encoder, \n",
    "                  x = columnas[i],\n",
    "                  y = columnas[i],\n",
    "                  estimator=lambda x: len(x) / len(df2) * 100)\n",
    "    fig.tight_layout()\n",
    "    fig.suptitle(columnas[i], fontsize = \"xx-large\")\n",
    "    axs.set_ylabel(\"Porcentaje (%)\", fontsize = \"xx-large\")\n",
    "    \n",
    "    \n",
    "   \n",
    "    \n",
    "    fig.savefig(\"D:/AxelFolder/University/mineria_de_datos/ProyectoDataMining/Imagenes/\"+columnas[i]+\".jpg\", bbox_inches ='tight')\n",
    "    plt.close(fig)\n",
    "   "
   ]
  },
  {
   "cell_type": "code",
   "execution_count": 28,
   "metadata": {},
   "outputs": [
    {
     "data": {
      "image/png": "[encoded data removed]",
      "text/plain": [
       "<Figure size 432x288 with 1 Axes>"
      ]
     },
     "metadata": {
      "needs_background": "light"
     },
     "output_type": "display_data"
    }
   ],
   "source": [
    "mask_edades = df2[\"edadif\"] < 110\n",
    "fig = plt.figure()\n",
    "sns.histplot(data = df2[mask_edades] , x = \"edadif\", discrete = True, kde = True )\n",
    "plt.title(\"Histograma edadif\")\n",
    "fig.tight_layout()\n",
    "fig.savefig(\"D:/AxelFolder/University/mineria_de_datos/ProyectoDataMining/Imagenes/\"+\"Histpgrama_edadif.jpg\", bbox_inches ='tight')\n",
    "plt.show()\n",
    "plt.close(fig)"
   ]
  },
  {
   "cell_type": "code",
   "execution_count": 29,
   "metadata": {},
   "outputs": [
    {
     "name": "stdout",
     "output_type": "stream",
     "text": [
      "Columna: depreg\n",
      "1     117682\n",
      "16     24823\n",
      "9      24306\n",
      "12     23707\n",
      "5      22625\n",
      "13     22533\n",
      "14     20031\n",
      "10     15062\n",
      "4      13914\n",
      "22     12335\n",
      "8      11627\n",
      "6      10878\n",
      "20     10314\n",
      "17      9884\n",
      "18      9459\n",
      "7       8910\n",
      "3       8327\n",
      "11      8246\n",
      "21      7933\n",
      "19      7207\n",
      "15      5971\n",
      "2       4226\n",
      "Name: depreg, dtype: int64\n",
      "\n",
      "Valores normalizados\n",
      "1     0.294205\n",
      "16    0.062058\n",
      "9     0.060765\n",
      "12    0.059268\n",
      "5     0.056563\n",
      "13    0.056333\n",
      "14    0.050077\n",
      "10    0.037655\n",
      "4     0.034785\n",
      "22    0.030838\n",
      "8     0.029067\n",
      "6     0.027195\n",
      "20    0.025785\n",
      "17    0.024710\n",
      "18    0.023647\n",
      "7     0.022275\n",
      "3     0.020817\n",
      "11    0.020615\n",
      "21    0.019832\n",
      "19    0.018017\n",
      "15    0.014927\n",
      "2     0.010565\n",
      "Name: depreg, dtype: float64\n",
      "\n",
      "**************\n",
      "\n",
      "Columna: mupreg\n",
      "101     96070\n",
      "901      8968\n",
      "501      6581\n",
      "1601     6456\n",
      "1001     4511\n",
      "        ...  \n",
      "316        81\n",
      "716        79\n",
      "702        75\n",
      "703        53\n",
      "1333       19\n",
      "Name: mupreg, Length: 340, dtype: int64\n",
      "\n",
      "Valores normalizados\n",
      "101     0.240175\n",
      "901     0.022420\n",
      "501     0.016452\n",
      "1601    0.016140\n",
      "1001    0.011277\n",
      "          ...   \n",
      "316     0.000202\n",
      "716     0.000198\n",
      "702     0.000188\n",
      "703     0.000132\n",
      "1333    0.000048\n",
      "Name: mupreg, Length: 340, dtype: float64\n",
      "\n",
      "**************\n",
      "\n",
      "Columna: mesreg\n",
      "1     36574\n",
      "7     35100\n",
      "5     34386\n",
      "10    34028\n",
      "8     33707\n",
      "4     33517\n",
      "11    32890\n",
      "3     32621\n",
      "9     32377\n",
      "12    32046\n",
      "6     31792\n",
      "2     30962\n",
      "Name: mesreg, dtype: int64\n",
      "\n",
      "Valores normalizados\n",
      "1     0.091435\n",
      "7     0.087750\n",
      "5     0.085965\n",
      "10    0.085070\n",
      "8     0.084267\n",
      "4     0.083793\n",
      "11    0.082225\n",
      "3     0.081552\n",
      "9     0.080943\n",
      "12    0.080115\n",
      "6     0.079480\n",
      "2     0.077405\n",
      "Name: mesreg, dtype: float64\n",
      "\n",
      "**************\n",
      "\n",
      "Columna: añoreg\n",
      "19    40022\n",
      "18    38961\n",
      "16    38610\n",
      "17    38364\n",
      "14    36676\n",
      "15    36469\n",
      "13    35500\n",
      "10    34035\n",
      "12    33992\n",
      "11    33828\n",
      "9     33543\n",
      "Name: añoreg, dtype: int64\n",
      "\n",
      "Valores normalizados\n",
      "19    0.100055\n",
      "18    0.097403\n",
      "16    0.096525\n",
      "17    0.095910\n",
      "14    0.091690\n",
      "15    0.091173\n",
      "13    0.088750\n",
      "10    0.085087\n",
      "12    0.084980\n",
      "11    0.084570\n",
      "9     0.083858\n",
      "Name: añoreg, dtype: float64\n",
      "\n",
      "**************\n",
      "\n",
      "Columna: depocu\n",
      "1     117142\n",
      "9      24762\n",
      "16     24741\n",
      "12     23301\n",
      "5      23031\n",
      "13     22513\n",
      "14     19862\n",
      "10     14989\n",
      "4      13874\n",
      "22     11765\n",
      "8      11622\n",
      "6      11115\n",
      "20     10306\n",
      "17     10023\n",
      "18      9485\n",
      "7       9186\n",
      "3       8879\n",
      "11      8057\n",
      "21      7864\n",
      "19      7260\n",
      "15      5881\n",
      "2       4342\n",
      "Name: depocu, dtype: int64\n",
      "\n",
      "Valores normalizados\n",
      "1     0.292855\n",
      "9     0.061905\n",
      "16    0.061852\n",
      "12    0.058252\n",
      "5     0.057577\n",
      "13    0.056282\n",
      "14    0.049655\n",
      "10    0.037472\n",
      "4     0.034685\n",
      "22    0.029413\n",
      "8     0.029055\n",
      "6     0.027787\n",
      "20    0.025765\n",
      "17    0.025057\n",
      "18    0.023713\n",
      "7     0.022965\n",
      "3     0.022197\n",
      "11    0.020143\n",
      "21    0.019660\n",
      "19    0.018150\n",
      "15    0.014703\n",
      "2     0.010855\n",
      "Name: depocu, dtype: float64\n",
      "\n",
      "**************\n",
      "\n",
      "Columna: mupocu\n",
      "101     79975\n",
      "501      9376\n",
      "108      9356\n",
      "901      8923\n",
      "1601     6519\n",
      "        ...  \n",
      "716        76\n",
      "702        72\n",
      "316        68\n",
      "703        50\n",
      "1333       16\n",
      "Name: mupocu, Length: 340, dtype: int64\n",
      "\n",
      "Valores normalizados\n",
      "101     0.199937\n",
      "501     0.023440\n",
      "108     0.023390\n",
      "901     0.022308\n",
      "1601    0.016297\n",
      "          ...   \n",
      "716     0.000190\n",
      "702     0.000180\n",
      "316     0.000170\n",
      "703     0.000125\n",
      "1333    0.000040\n",
      "Name: mupocu, Length: 340, dtype: float64\n",
      "\n",
      "**************\n",
      "\n",
      "Columna: areag\n",
      "1.0    172588\n",
      "2.0    141981\n",
      "9.0      6448\n",
      "Name: areag, dtype: int64\n",
      "\n",
      "Valores normalizados\n",
      "1.0    0.537629\n",
      "2.0    0.442285\n",
      "9.0    0.020086\n",
      "Name: areag, dtype: float64\n",
      "\n",
      "**************\n",
      "\n",
      "Columna: sexo\n",
      "1    225328\n",
      "2    174672\n",
      "Name: sexo, dtype: int64\n",
      "\n",
      "Valores normalizados\n",
      "1    0.56332\n",
      "2    0.43668\n",
      "Name: sexo, dtype: float64\n",
      "\n",
      "**************\n",
      "\n",
      "Columna: diaocu\n",
      "1     13644\n",
      "5     13465\n",
      "2     13392\n",
      "10    13353\n",
      "4     13292\n",
      "28    13281\n",
      "27    13254\n",
      "20    13238\n",
      "16    13219\n",
      "11    13150\n",
      "17    13140\n",
      "8     13134\n",
      "3     13134\n",
      "6     13119\n",
      "25    13118\n",
      "14    13110\n",
      "18    13108\n",
      "15    13104\n",
      "7     13073\n",
      "22    13052\n",
      "19    13051\n",
      "23    13028\n",
      "9     13028\n",
      "13    12988\n",
      "12    12988\n",
      "26    12974\n",
      "24    12966\n",
      "21    12764\n",
      "29    12341\n",
      "30    11979\n",
      "31     7513\n",
      "Name: diaocu, dtype: int64\n",
      "\n",
      "Valores normalizados\n",
      "1     0.034110\n",
      "5     0.033662\n",
      "2     0.033480\n",
      "10    0.033383\n",
      "4     0.033230\n",
      "28    0.033203\n",
      "27    0.033135\n",
      "20    0.033095\n",
      "16    0.033048\n",
      "11    0.032875\n",
      "17    0.032850\n",
      "8     0.032835\n",
      "3     0.032835\n",
      "6     0.032798\n",
      "25    0.032795\n",
      "14    0.032775\n",
      "18    0.032770\n",
      "15    0.032760\n",
      "7     0.032683\n",
      "22    0.032630\n",
      "19    0.032627\n",
      "23    0.032570\n",
      "9     0.032570\n",
      "13    0.032470\n",
      "12    0.032470\n",
      "26    0.032435\n",
      "24    0.032415\n",
      "21    0.031910\n",
      "29    0.030853\n",
      "30    0.029947\n",
      "31    0.018783\n",
      "Name: diaocu, dtype: float64\n",
      "\n",
      "**************\n",
      "\n",
      "Columna: mesocu\n",
      "7     34511\n",
      "12    34312\n",
      "1     34115\n",
      "10    33989\n",
      "5     33807\n",
      "3     33747\n",
      "8     33493\n",
      "4     33225\n",
      "6     32974\n",
      "11    32944\n",
      "9     32740\n",
      "2     30143\n",
      "Name: mesocu, dtype: int64\n",
      "\n",
      "Valores normalizados\n",
      "7     0.086277\n",
      "12    0.085780\n",
      "1     0.085288\n",
      "10    0.084973\n",
      "5     0.084517\n",
      "3     0.084367\n",
      "8     0.083733\n",
      "4     0.083062\n",
      "6     0.082435\n",
      "11    0.082360\n",
      "9     0.081850\n",
      "2     0.075357\n",
      "Name: mesocu, dtype: float64\n",
      "\n",
      "**************\n",
      "\n",
      "Columna: añoocu\n",
      "19    40022\n",
      "18    38961\n",
      "16    38610\n",
      "17    38364\n",
      "14    36676\n",
      "15    36469\n",
      "13    35500\n",
      "10    34035\n",
      "12    33992\n",
      "11    33828\n",
      "9     33543\n",
      "Name: añoocu, dtype: int64\n",
      "\n",
      "Valores normalizados\n",
      "19    0.100055\n",
      "18    0.097403\n",
      "16    0.096525\n",
      "17    0.095910\n",
      "14    0.091690\n",
      "15    0.091173\n",
      "13    0.088750\n",
      "10    0.085087\n",
      "12    0.084980\n",
      "11    0.084570\n",
      "9     0.083858\n",
      "Name: añoocu, dtype: float64\n",
      "\n",
      "**************\n",
      "\n",
      "Columna: edadif\n",
      "1      15423\n",
      "2       7746\n",
      "83      6885\n",
      "84      6836\n",
      "81      6817\n",
      "       ...  \n",
      "120        2\n",
      "122        2\n",
      "114        1\n",
      "117        1\n",
      "118        1\n",
      "Name: edadif, Length: 121, dtype: int64\n",
      "\n",
      "Valores normalizados\n",
      "1      0.038558\n",
      "2      0.019365\n",
      "83     0.017212\n",
      "84     0.017090\n",
      "81     0.017042\n",
      "         ...   \n",
      "120    0.000005\n",
      "122    0.000005\n",
      "114    0.000003\n",
      "117    0.000003\n",
      "118    0.000003\n",
      "Name: edadif, Length: 121, dtype: float64\n",
      "\n",
      "**************\n",
      "\n",
      "Columna: perdif\n",
      "3    357599\n",
      "2     20353\n",
      "1     18350\n",
      "9      3698\n",
      "Name: perdif, dtype: int64\n",
      "\n",
      "Valores normalizados\n",
      "3    0.893998\n",
      "2    0.050882\n",
      "1    0.045875\n",
      "9    0.009245\n",
      "Name: perdif, dtype: float64\n",
      "\n",
      "**************\n",
      "\n",
      "Columna: puedif\n",
      "4    136772\n",
      "1    110012\n",
      "9    102003\n",
      "2     48414\n",
      "5      2705\n",
      "3        94\n",
      "Name: puedif, dtype: int64\n",
      "\n",
      "Valores normalizados\n",
      "4    0.341930\n",
      "1    0.275030\n",
      "9    0.255007\n",
      "2    0.121035\n",
      "5    0.006763\n",
      "3    0.000235\n",
      "Name: puedif, dtype: float64\n",
      "\n",
      "**************\n",
      "\n",
      "Columna: ecidif\n",
      "1    252982\n",
      "2    138355\n",
      "9      4929\n",
      "3      3734\n",
      "Name: ecidif, dtype: int64\n",
      "\n",
      "Valores normalizados\n",
      "1    0.632455\n",
      "2    0.345888\n",
      "9    0.012323\n",
      "3    0.009335\n",
      "Name: ecidif, dtype: float64\n",
      "\n",
      "**************\n",
      "\n",
      "Columna: ocudif\n",
      "9711.0    39383\n",
      "9211.0    20548\n",
      "9714.0    20213\n",
      "6111.0    16045\n",
      "9712.0     8749\n",
      "          ...  \n",
      "7119.0        1\n",
      "8182.0        1\n",
      "2654.0        1\n",
      "7521.0        1\n",
      "9215.0        1\n",
      "Name: ocudif, Length: 240, dtype: int64\n",
      "\n",
      "Valores normalizados\n",
      "9711.0    0.290868\n",
      "9211.0    0.151760\n",
      "9714.0    0.149286\n",
      "6111.0    0.118502\n",
      "9712.0    0.064617\n",
      "            ...   \n",
      "7119.0    0.000007\n",
      "8182.0    0.000007\n",
      "2654.0    0.000007\n",
      "7521.0    0.000007\n",
      "9215.0    0.000007\n",
      "Name: ocudif, Length: 240, dtype: float64\n",
      "\n",
      "**************\n",
      "\n",
      "Columna: dnadif\n",
      "1       68959\n",
      "12      28445\n",
      "16      27371\n",
      "13      24389\n",
      "9       24331\n",
      "14      23594\n",
      "5       20186\n",
      "22      19439\n",
      "10      16812\n",
      "4       16708\n",
      "6       15756\n",
      "8       13775\n",
      "20      13655\n",
      "21      11211\n",
      "7        9910\n",
      "19       9449\n",
      "11       9185\n",
      "15       8667\n",
      "3        8505\n",
      "18       7679\n",
      "2        6888\n",
      "17       5565\n",
      "99       5554\n",
      "23       3965\n",
      "9999        2\n",
      "Name: dnadif, dtype: int64\n",
      "\n",
      "Valores normalizados\n",
      "1       0.172398\n",
      "12      0.071112\n",
      "16      0.068428\n",
      "13      0.060972\n",
      "9       0.060827\n",
      "14      0.058985\n",
      "5       0.050465\n",
      "22      0.048598\n",
      "10      0.042030\n",
      "4       0.041770\n",
      "6       0.039390\n",
      "8       0.034438\n",
      "20      0.034138\n",
      "21      0.028028\n",
      "7       0.024775\n",
      "19      0.023623\n",
      "11      0.022963\n",
      "15      0.021667\n",
      "3       0.021263\n",
      "18      0.019197\n",
      "2       0.017220\n",
      "17      0.013912\n",
      "99      0.013885\n",
      "23      0.009912\n",
      "9999    0.000005\n",
      "Name: dnadif, dtype: float64\n",
      "\n",
      "**************\n",
      "\n",
      "Columna: mnadif\n",
      "101     40364\n",
      "1609     6059\n",
      "501      5526\n",
      "901      5440\n",
      "9999     5311\n",
      "        ...  \n",
      "514         2\n",
      "0204        2\n",
      "1911        1\n",
      "0923        1\n",
      "1332        1\n",
      "Name: mnadif, Length: 680, dtype: int64\n",
      "\n",
      "Valores normalizados\n",
      "101     0.100910\n",
      "1609    0.015147\n",
      "501     0.013815\n",
      "901     0.013600\n",
      "9999    0.013277\n",
      "          ...   \n",
      "514     0.000005\n",
      "0204    0.000005\n",
      "1911    0.000003\n",
      "0923    0.000003\n",
      "1332    0.000003\n",
      "Name: mnadif, Length: 680, dtype: float64\n",
      "\n",
      "**************\n",
      "\n",
      "Columna: nacdif\n",
      "320     360036\n",
      "0        32961\n",
      "9999      2828\n",
      "222       1320\n",
      "340        515\n",
      "         ...  \n",
      "148          1\n",
      "44           1\n",
      "388          1\n",
      "39           1\n",
      "818          1\n",
      "Name: nacdif, Length: 98, dtype: int64\n",
      "\n",
      "Valores normalizados\n",
      "320     0.900090\n",
      "0       0.082403\n",
      "9999    0.007070\n",
      "222     0.003300\n",
      "340     0.001288\n",
      "          ...   \n",
      "148     0.000003\n",
      "44      0.000003\n",
      "388     0.000003\n",
      "39      0.000003\n",
      "818     0.000003\n",
      "Name: nacdif, Length: 98, dtype: float64\n",
      "\n",
      "**************\n",
      "\n",
      "Columna: dredif\n",
      "1     92498\n",
      "99    27611\n",
      "12    23486\n",
      "16    23361\n",
      "5     21737\n",
      "13    21401\n",
      "9     21134\n",
      "14    19177\n",
      "10    14647\n",
      "4     13972\n",
      "22    13604\n",
      "8     11690\n",
      "6     10770\n",
      "20    10382\n",
      "18    10215\n",
      "17     9899\n",
      "11     8852\n",
      "7      8774\n",
      "21     8573\n",
      "3      8195\n",
      "19     7400\n",
      "15     6622\n",
      "2      5238\n",
      "23      762\n",
      "Name: dredif, dtype: int64\n",
      "\n",
      "Valores normalizados\n",
      "1     0.231245\n",
      "99    0.069028\n",
      "12    0.058715\n",
      "16    0.058403\n",
      "5     0.054343\n",
      "13    0.053503\n",
      "9     0.052835\n",
      "14    0.047942\n",
      "10    0.036617\n",
      "4     0.034930\n",
      "22    0.034010\n",
      "8     0.029225\n",
      "6     0.026925\n",
      "20    0.025955\n",
      "18    0.025538\n",
      "17    0.024747\n",
      "11    0.022130\n",
      "7     0.021935\n",
      "21    0.021433\n",
      "3     0.020487\n",
      "19    0.018500\n",
      "15    0.016555\n",
      "2     0.013095\n",
      "23    0.001905\n",
      "Name: dredif, dtype: float64\n",
      "\n",
      "**************\n",
      "\n",
      "Columna: mredif\n",
      "101     46960\n",
      "9999    27611\n",
      "108     10828\n",
      "115      8156\n",
      "901      5413\n",
      "        ...  \n",
      "702        78\n",
      "316        74\n",
      "703        52\n",
      "514        16\n",
      "1333       15\n",
      "Name: mredif, Length: 342, dtype: int64\n",
      "\n",
      "Valores normalizados\n",
      "101     0.117400\n",
      "9999    0.069028\n",
      "108     0.027070\n",
      "115     0.020390\n",
      "901     0.013532\n",
      "          ...   \n",
      "702     0.000195\n",
      "316     0.000185\n",
      "703     0.000130\n",
      "514     0.000040\n",
      "1333    0.000037\n",
      "Name: mredif, Length: 342, dtype: float64\n",
      "\n",
      "**************\n",
      "\n",
      "Columna: caudef\n",
      "I219    25822\n",
      "J189    25376\n",
      "E149    14116\n",
      "X599    13415\n",
      "R98X    13106\n",
      "        ...  \n",
      "W795        1\n",
      "O648        1\n",
      "Q244        1\n",
      "M430        1\n",
      "I352        1\n",
      "Name: caudef, Length: 2730, dtype: int64\n",
      "\n",
      "Valores normalizados\n",
      "I219    0.064555\n",
      "J189    0.063440\n",
      "E149    0.035290\n",
      "X599    0.033537\n",
      "R98X    0.032765\n",
      "          ...   \n",
      "W795    0.000003\n",
      "O648    0.000003\n",
      "Q244    0.000003\n",
      "M430    0.000003\n",
      "I352    0.000003\n",
      "Name: caudef, Length: 2730, dtype: float64\n",
      "\n",
      "**************\n",
      "\n",
      "Columna: asist\n",
      "5    184535\n",
      "1    182685\n",
      "4     26914\n",
      "9      3144\n",
      "2      1478\n",
      "3      1244\n",
      "Name: asist, dtype: int64\n",
      "\n",
      "Valores normalizados\n",
      "5    0.461338\n",
      "1    0.456713\n",
      "4    0.067285\n",
      "9    0.007860\n",
      "2    0.003695\n",
      "3    0.003110\n",
      "Name: asist, dtype: float64\n",
      "\n",
      "**************\n",
      "\n",
      "Columna: ocur\n",
      "6    221773\n",
      "1     85495\n",
      "4     38818\n",
      "9     19002\n",
      "5     14197\n",
      "2     10308\n",
      "8      6152\n",
      "3      4194\n",
      "7        61\n",
      "Name: ocur, dtype: int64\n",
      "\n",
      "Valores normalizados\n",
      "6    0.554432\n",
      "1    0.213737\n",
      "4    0.097045\n",
      "9    0.047505\n",
      "5    0.035493\n",
      "2    0.025770\n",
      "8    0.015380\n",
      "3    0.010485\n",
      "7    0.000152\n",
      "Name: ocur, dtype: float64\n",
      "\n",
      "**************\n",
      "\n",
      "Columna: cerdef\n",
      "1    259643\n",
      "9    127800\n",
      "2     10070\n",
      "3      2487\n",
      "Name: cerdef, dtype: int64\n",
      "\n",
      "Valores normalizados\n",
      "1    0.649107\n",
      "9    0.319500\n",
      "2    0.025175\n",
      "3    0.006217\n",
      "Name: cerdef, dtype: float64\n",
      "\n",
      "**************\n",
      "\n",
      "Columna: escodif\n",
      "1.0    201906\n",
      "2.0     87036\n",
      "9.0     37222\n",
      "4.0     20525\n",
      "3.0     14938\n",
      "5.0      4745\n",
      "6.0        85\n",
      "Name: escodif, dtype: int64\n",
      "\n",
      "Valores normalizados\n",
      "1.0    0.550968\n",
      "2.0    0.237507\n",
      "9.0    0.101573\n",
      "4.0    0.056009\n",
      "3.0    0.040763\n",
      "5.0    0.012948\n",
      "6.0    0.000232\n",
      "Name: escodif, dtype: float64\n",
      "\n",
      "**************\n",
      "\n",
      "Columna: pnadif\n",
      "320.0     293580\n",
      "9999.0      2148\n",
      "222.0       1073\n",
      "340.0        405\n",
      "720.0        266\n",
      "           ...  \n",
      "60.0           1\n",
      "148.0          1\n",
      "446.0          1\n",
      "804.0          1\n",
      "388.0          1\n",
      "Name: pnadif, Length: 68, dtype: int64\n",
      "\n",
      "Valores normalizados\n",
      "320.0     0.983208\n",
      "9999.0    0.007194\n",
      "222.0     0.003594\n",
      "340.0     0.001356\n",
      "720.0     0.000891\n",
      "            ...   \n",
      "60.0      0.000003\n",
      "148.0     0.000003\n",
      "446.0     0.000003\n",
      "804.0     0.000003\n",
      "388.0     0.000003\n",
      "Name: pnadif, Length: 68, dtype: float64\n",
      "\n",
      "**************\n",
      "\n",
      "Columna: predif\n",
      "320.0     274390\n",
      "9999.0     23651\n",
      "222.0        181\n",
      "840.0         90\n",
      "721.0         82\n",
      "340.0         65\n",
      "484.0         31\n",
      "720.0         28\n",
      "84.0          28\n",
      "723.0         22\n",
      "170.0          5\n",
      "124.0          2\n",
      "188.0          2\n",
      "152.0          2\n",
      "804.0          1\n",
      "616.0          1\n",
      "1020.0         1\n",
      "458.0          1\n",
      "718.0          1\n",
      "834.0          1\n",
      "1026.0         1\n",
      "356.0          1\n",
      "312.0          1\n",
      "568.0          1\n",
      "1045.0         1\n",
      "410.0          1\n",
      "380.0          1\n",
      "276.0          1\n",
      "724.0          1\n",
      "Name: predif, dtype: int64\n",
      "\n",
      "Valores normalizados\n",
      "320.0     0.918940\n",
      "9999.0    0.079208\n",
      "222.0     0.000606\n",
      "840.0     0.000301\n",
      "721.0     0.000275\n",
      "340.0     0.000218\n",
      "484.0     0.000104\n",
      "720.0     0.000094\n",
      "84.0      0.000094\n",
      "723.0     0.000074\n",
      "170.0     0.000017\n",
      "124.0     0.000007\n",
      "188.0     0.000007\n",
      "152.0     0.000007\n",
      "804.0     0.000003\n",
      "616.0     0.000003\n",
      "1020.0    0.000003\n",
      "458.0     0.000003\n",
      "718.0     0.000003\n",
      "834.0     0.000003\n",
      "1026.0    0.000003\n",
      "356.0     0.000003\n",
      "312.0     0.000003\n",
      "568.0     0.000003\n",
      "1045.0    0.000003\n",
      "410.0     0.000003\n",
      "380.0     0.000003\n",
      "276.0     0.000003\n",
      "724.0     0.000003\n",
      "Name: predif, dtype: float64\n",
      "\n",
      "**************\n",
      "\n",
      "Columna: ciuodif\n",
      "97      57502\n",
      "NEOG    55514\n",
      "92      34139\n",
      "98      19612\n",
      "61      19111\n",
      "        ...  \n",
      "94         10\n",
      "13          8\n",
      "82          6\n",
      "82          3\n",
      "13          3\n",
      "Name: ciuodif, Length: 87, dtype: int64\n",
      "\n",
      "Valores normalizados\n",
      "97      0.217315\n",
      "NEOG    0.209802\n",
      "92      0.129020\n",
      "98      0.074119\n",
      "61      0.072225\n",
      "          ...   \n",
      "94      0.000038\n",
      "13      0.000030\n",
      "82      0.000023\n",
      "82      0.000011\n",
      "13      0.000011\n",
      "Name: ciuodif, Length: 87, dtype: float64\n",
      "\n",
      "**************\n",
      "\n"
     ]
    }
   ],
   "source": [
    "for i in columnas:\n",
    "    print(\"Columna: \"+ i)\n",
    "    print(df2[i].value_counts(sort = True))\n",
    "    print(\"\")\n",
    "    print(\"Valores normalizados\")\n",
    "    print(df2[i].value_counts(sort = True, normalize = True))\n",
    "    print(\"\")\n",
    "    print(\"**************\")\n",
    "    print(\"\")"
   ]
  },
  {
   "cell_type": "markdown",
   "metadata": {},
   "source": [
    "### Empleando encoders para análisis"
   ]
  },
  {
   "cell_type": "code",
   "execution_count": 21,
   "metadata": {},
   "outputs": [],
   "source": [
    "df2_encoder = df2.copy()"
   ]
  },
  {
   "cell_type": "code",
   "execution_count": null,
   "metadata": {},
   "outputs": [],
   "source": []
  },
  {
   "cell_type": "code",
   "execution_count": 22,
   "metadata": {},
   "outputs": [],
   "source": [
    "df2_encoder[\"ciuodif\"]  = df2_encoder[\"ciuodif\"].astype(str)\n",
    "df2_encoder[\"mnadif\"]  = df2_encoder[\"mnadif\"].astype(str)"
   ]
  },
  {
   "cell_type": "code",
   "execution_count": 23,
   "metadata": {},
   "outputs": [],
   "source": [
    "gle = LabelEncoder()"
   ]
  },
  {
   "cell_type": "code",
   "execution_count": 24,
   "metadata": {},
   "outputs": [],
   "source": [
    "caudef_labels = gle.fit_transform(df2_encoder[\"caudef\"])\n",
    "caudef_mappin = {index: label for index, label in \n",
    "                  enumerate(gle.classes_)}\n",
    "\n",
    "ciuodif_labels = gle.fit_transform(df2_encoder[\"ciuodif\"])\n",
    "ciuodif_mappin = {index: label for index, label in \n",
    "                  enumerate(gle.classes_)}\n",
    "\n",
    "mnadif_labels = gle.fit_transform(df2_encoder[\"mnadif\"])\n",
    "mnadif_mappin = {index: label for index, label in \n",
    "                  enumerate(gle.classes_)}"
   ]
  },
  {
   "cell_type": "code",
   "execution_count": 25,
   "metadata": {},
   "outputs": [],
   "source": [
    "df2_encoder[\"caudef\"] = caudef_labels\n",
    "df2_encoder[\"ciuodif\"] = ciuodif_labels\n",
    "df2_encoder[\"mnadif\"] = mnadif_labels"
   ]
  },
  {
   "cell_type": "code",
   "execution_count": 26,
   "metadata": {},
   "outputs": [
    {
     "data": {
      "text/plain": [
       "depreg          0\n",
       "mupreg          0\n",
       "mesreg          0\n",
       "añoreg          0\n",
       "depocu          0\n",
       "mupocu          0\n",
       "areag       78983\n",
       "sexo            0\n",
       "diaocu          0\n",
       "mesocu          0\n",
       "añoocu          0\n",
       "edadif          0\n",
       "perdif          0\n",
       "puedif          0\n",
       "ecidif          0\n",
       "ocudif     264602\n",
       "dnadif          0\n",
       "mnadif          0\n",
       "nacdif          0\n",
       "dredif          0\n",
       "mredif          0\n",
       "caudef          0\n",
       "asist           0\n",
       "ocur            0\n",
       "cerdef          0\n",
       "escodif     33543\n",
       "pnadif     101406\n",
       "predif     101406\n",
       "ciuodif         0\n",
       "dtype: int64"
      ]
     },
     "execution_count": 26,
     "metadata": {},
     "output_type": "execute_result"
    }
   ],
   "source": [
    "df2_encoder.isna().sum()"
   ]
  },
  {
   "cell_type": "markdown",
   "metadata": {},
   "source": [
    "### Matriz de correlacion "
   ]
  },
  {
   "cell_type": "code",
   "execution_count": 35,
   "metadata": {},
   "outputs": [],
   "source": [
    "from dython.nominal import associations"
   ]
  },
  {
   "cell_type": "code",
   "execution_count": 36,
   "metadata": {},
   "outputs": [],
   "source": [
    "Lista_columnas = columnas.tolist()\n",
    "Lista_columnas_nominales = Lista_columnas.copy()\n",
    "Lista_columnas_nominales.remove(\"edadif\")"
   ]
  },
  {
   "cell_type": "code",
   "execution_count": 38,
   "metadata": {},
   "outputs": [
    {
     "data": {
      "image/png": "[encoded data removed]",
      "text/plain": [
       "<Figure size 1080x1080 with 2 Axes>"
      ]
     },
     "metadata": {
      "needs_background": "light"
     },
     "output_type": "display_data"
    }
   ],
   "source": [
    "fig,axs = plt.subplots(figsize = (15,15))\n",
    "diccionario_corr=associations(df,ax = axs, nominal_columns = Lista_columnas_nominales, plot = True, clustering = True,nan_replace_value = -666, theil_u = True)\n",
    "fig.suptitle(\"Correlaciones\", fontsize = \"xx-large\")\n",
    "fig.tight_layout()\n",
    "fig.savefig(\"D:/AxelFolder/University/mineria_de_datos/ProyectoDataMining/Imagenes/\"+\"heatmap_clusterizado4.jpg\", bbox_inches ='tight')\n",
    "plt.close(fig)"
   ]
  },
  {
   "cell_type": "code",
   "execution_count": 30,
   "metadata": {},
   "outputs": [
    {
     "ename": "NameError",
     "evalue": "name 'diccionario_corr' is not defined",
     "output_type": "error",
     "traceback": [
      "\u001b[1;31m---------------------------------------------------------------------------\u001b[0m",
      "\u001b[1;31mNameError\u001b[0m                                 Traceback (most recent call last)",
      "\u001b[1;32m<ipython-input-30-fe356cd5f278>\u001b[0m in \u001b[0;36m<module>\u001b[1;34m\u001b[0m\n\u001b[1;32m----> 1\u001b[1;33m \u001b[0mcorr\u001b[0m\u001b[1;33m=\u001b[0m\u001b[0mdiccionario_corr\u001b[0m\u001b[1;33m[\u001b[0m\u001b[1;34m'corr'\u001b[0m\u001b[1;33m]\u001b[0m\u001b[1;33m\u001b[0m\u001b[1;33m\u001b[0m\u001b[0m\n\u001b[0m",
      "\u001b[1;31mNameError\u001b[0m: name 'diccionario_corr' is not defined"
     ]
    }
   ],
   "source": [
    "corr=diccionario_corr['corr'] "
   ]
  },
  {
   "cell_type": "code",
   "execution_count": 40,
   "metadata": {},
   "outputs": [],
   "source": [
    "diccionario = {}"
   ]
  },
  {
   "cell_type": "code",
   "execution_count": 41,
   "metadata": {},
   "outputs": [],
   "source": [
    "names = []\n",
    "for i in columnas:\n",
    "    for index,row in corr[i].items():\n",
    "        if (index != i): \n",
    "            if (abs(row)>=0.1):\n",
    "                names.append(index)\n",
    "    diccionario[i] = names\n",
    "    names = []\n",
    "    "
   ]
  },
  {
   "cell_type": "code",
   "execution_count": 42,
   "metadata": {},
   "outputs": [
    {
     "name": "stdout",
     "output_type": "stream",
     "text": [
      "depreg:\n",
      "['mupreg', 'depocu', 'mupocu', 'mredif', 'dredif', 'mnadif', 'dnadif']\n",
      "\n",
      "*****\n",
      "mupreg:\n",
      "['depreg', 'depocu', 'mupocu', 'mredif', 'dredif', 'mnadif', 'dnadif', 'caudef']\n",
      "\n",
      "*****\n",
      "mesreg:\n",
      "['mesocu']\n",
      "\n",
      "*****\n",
      "añoreg:\n",
      "['añoocu', 'pnadif', 'escodif', 'nacdif', 'ocudif', 'ciuodif', 'puedif', 'predif', 'areag']\n",
      "\n",
      "*****\n",
      "depocu:\n",
      "['depreg', 'mupreg', 'mupocu', 'mredif', 'dredif', 'mnadif', 'dnadif']\n",
      "\n",
      "*****\n",
      "mupocu:\n",
      "['depreg', 'mupreg', 'depocu', 'mredif', 'dredif', 'mnadif', 'dnadif', 'caudef']\n",
      "\n",
      "*****\n",
      "areag:\n",
      "['depreg', 'mupreg', 'depocu', 'mupocu', 'mredif', 'añoreg', 'añoocu', 'ciuodif', 'asist', 'ocur']\n",
      "\n",
      "*****\n",
      "sexo:\n",
      "['ocudif', 'ciuodif']\n",
      "\n",
      "*****\n",
      "diaocu:\n",
      "[]\n",
      "\n",
      "*****\n",
      "mesocu:\n",
      "['mesreg']\n",
      "\n",
      "*****\n",
      "añoocu:\n",
      "['añoreg', 'pnadif', 'escodif', 'nacdif', 'ocudif', 'ciuodif', 'puedif', 'predif', 'areag']\n",
      "\n",
      "*****\n",
      "edadif:\n",
      "['mnadif', 'dnadif', 'pnadif', 'nacdif', 'ocudif', 'ciuodif', 'perdif', 'caudef', 'ecidif']\n",
      "\n",
      "*****\n",
      "perdif:\n",
      "['mredif', 'dredif', 'mnadif', 'escodif', 'ocudif', 'ciuodif', 'puedif', 'edadif', 'caudef', 'ecidif']\n",
      "\n",
      "*****\n",
      "puedif:\n",
      "['depreg', 'mupreg', 'depocu', 'mupocu', 'mredif', 'dredif', 'mnadif', 'dnadif', 'añoreg', 'añoocu', 'pnadif', 'escodif', 'ocudif', 'ciuodif', 'predif']\n",
      "\n",
      "*****\n",
      "ecidif:\n",
      "['edadif']\n",
      "\n",
      "*****\n",
      "ocudif:\n",
      "['añoreg', 'añoocu', 'pnadif', 'escodif', 'ciuodif', 'puedif', 'predif', 'edadif', 'caudef', 'sexo']\n",
      "\n",
      "*****\n",
      "dnadif:\n",
      "['depreg', 'mupreg', 'depocu', 'mupocu', 'mredif', 'dredif', 'mnadif', 'edadif']\n",
      "\n",
      "*****\n",
      "mnadif:\n",
      "['depreg', 'mupreg', 'depocu', 'mupocu', 'mredif', 'dredif', 'dnadif', 'edadif']\n",
      "\n",
      "*****\n",
      "nacdif:\n",
      "['mnadif', 'dnadif', 'añoreg', 'añoocu', 'pnadif', 'escodif', 'ocudif', 'ciuodif', 'puedif', 'predif', 'edadif', 'asist', 'ocur']\n",
      "\n",
      "*****\n",
      "dredif:\n",
      "['depreg', 'mupreg', 'depocu', 'mupocu', 'mredif', 'mnadif', 'dnadif']\n",
      "\n",
      "*****\n",
      "mredif:\n",
      "['depreg', 'mupreg', 'depocu', 'mupocu', 'dredif', 'mnadif', 'dnadif']\n",
      "\n",
      "*****\n",
      "caudef:\n",
      "['mupreg', 'mupocu', 'edadif']\n",
      "\n",
      "*****\n",
      "asist:\n",
      "['depreg', 'mupreg', 'depocu', 'mupocu', 'mredif', 'dredif', 'mnadif', 'añoreg', 'añoocu', 'escodif', 'nacdif', 'caudef', 'ocur', 'cerdef', 'areag']\n",
      "\n",
      "*****\n",
      "ocur:\n",
      "['mupreg', 'mupocu', 'añoreg', 'añoocu', 'escodif', 'nacdif', 'caudef', 'asist', 'areag']\n",
      "\n",
      "*****\n",
      "cerdef:\n",
      "['depreg', 'mupreg', 'depocu', 'mupocu', 'mredif', 'mnadif', 'caudef', 'asist', 'ocur', 'areag']\n",
      "\n",
      "*****\n",
      "escodif:\n",
      "['añoreg', 'añoocu', 'pnadif', 'nacdif', 'ocudif', 'ciuodif', 'puedif', 'predif', 'ocur']\n",
      "\n",
      "*****\n",
      "pnadif:\n",
      "['mnadif', 'dnadif', 'añoreg', 'añoocu', 'escodif', 'nacdif', 'ocudif', 'ciuodif', 'puedif', 'predif', 'edadif', 'areag']\n",
      "\n",
      "*****\n",
      "predif:\n",
      "['mredif', 'dredif', 'añoreg', 'añoocu', 'pnadif', 'escodif', 'nacdif', 'ocudif', 'ciuodif', 'puedif', 'caudef']\n",
      "\n",
      "*****\n",
      "ciuodif:\n",
      "['mupreg', 'mupocu', 'mredif', 'dredif', 'mnadif', 'añoreg', 'añoocu', 'pnadif', 'escodif', 'nacdif', 'ocudif', 'puedif', 'predif', 'edadif', 'caudef', 'sexo', 'areag']\n",
      "\n",
      "*****\n"
     ]
    }
   ],
   "source": [
    "for key in diccionario:\n",
    "    print(key+\":\")\n",
    "    print(diccionario[key])\n",
    "    print(\"\")\n",
    "    print(\"*****\")"
   ]
  },
  {
   "cell_type": "markdown",
   "metadata": {},
   "source": [
    "#### Aplicando agrupamiento"
   ]
  },
  {
   "cell_type": "code",
   "execution_count": 43,
   "metadata": {},
   "outputs": [],
   "source": [
    "distortions = []\n",
    "sombra = []\n",
    "K = range(1,10)\n",
    "df_cluster = df2_encoder.drop(muchos_nas, axis = 1)\n",
    "df_cluster=pd.get_dummies(df_cluster ,drop_first = True)"
   ]
  },
  {
   "cell_type": "code",
   "execution_count": 44,
   "metadata": {},
   "outputs": [],
   "source": [
    "for k in K:\n",
    "    kmeanModel = KMeans(n_clusters=k)\n",
    "    kmeanModel.fit(df_cluster)\n",
    "    distortions.append(kmeanModel.inertia_)"
   ]
  },
  {
   "cell_type": "code",
   "execution_count": null,
   "metadata": {},
   "outputs": [],
   "source": []
  },
  {
   "cell_type": "code",
   "execution_count": 45,
   "metadata": {},
   "outputs": [
    {
     "data": {
      "image/png": "[encoded data removed]",
      "text/plain": [
       "<Figure size 1152x576 with 1 Axes>"
      ]
     },
     "metadata": {
      "needs_background": "light"
     },
     "output_type": "display_data"
    }
   ],
   "source": [
    "plt.close(fig)\n",
    "fig=plt.figure(figsize=(16,8))\n",
    "plt.plot(K, distortions, 'bx-')\n",
    "plt.xlabel('k')\n",
    "plt.ylabel('Distortion')\n",
    "plt.title('The Elbow Method showing the optimal k')\n",
    "fig.savefig(\"D:/AxelFolder/University/mineria_de_datos/ProyectoDataMining/Imagenes/elbow_method.jpg\", bbox_inches ='tight')\n",
    "plt.show()"
   ]
  },
  {
   "cell_type": "code",
   "execution_count": 46,
   "metadata": {},
   "outputs": [
    {
     "ename": "NameError",
     "evalue": "name 'silueta' is not defined",
     "output_type": "error",
     "traceback": [
      "\u001b[1;31m---------------------------------------------------------------------------\u001b[0m",
      "\u001b[1;31mNameError\u001b[0m                                 Traceback (most recent call last)",
      "\u001b[1;32m<ipython-input-46-214d4cdee0e5>\u001b[0m in \u001b[0;36m<module>\u001b[1;34m\u001b[0m\n\u001b[0;32m      1\u001b[0m \u001b[0mplt\u001b[0m\u001b[1;33m.\u001b[0m\u001b[0mfigure\u001b[0m\u001b[1;33m(\u001b[0m\u001b[0mfigsize\u001b[0m\u001b[1;33m=\u001b[0m\u001b[1;33m(\u001b[0m\u001b[1;36m16\u001b[0m\u001b[1;33m,\u001b[0m\u001b[1;36m8\u001b[0m\u001b[1;33m)\u001b[0m\u001b[1;33m)\u001b[0m\u001b[1;33m\u001b[0m\u001b[1;33m\u001b[0m\u001b[0m\n\u001b[1;32m----> 2\u001b[1;33m \u001b[0mplt\u001b[0m\u001b[1;33m.\u001b[0m\u001b[0mplot\u001b[0m\u001b[1;33m(\u001b[0m\u001b[0mK\u001b[0m\u001b[1;33m,\u001b[0m \u001b[0msilueta\u001b[0m\u001b[1;33m,\u001b[0m \u001b[1;34m'bx-'\u001b[0m\u001b[1;33m)\u001b[0m\u001b[1;33m\u001b[0m\u001b[1;33m\u001b[0m\u001b[0m\n\u001b[0m\u001b[0;32m      3\u001b[0m \u001b[0mplt\u001b[0m\u001b[1;33m.\u001b[0m\u001b[0mxlabel\u001b[0m\u001b[1;33m(\u001b[0m\u001b[1;34m'k'\u001b[0m\u001b[1;33m)\u001b[0m\u001b[1;33m\u001b[0m\u001b[1;33m\u001b[0m\u001b[0m\n\u001b[0;32m      4\u001b[0m \u001b[0mplt\u001b[0m\u001b[1;33m.\u001b[0m\u001b[0mylabel\u001b[0m\u001b[1;33m(\u001b[0m\u001b[1;34m'Distortion'\u001b[0m\u001b[1;33m)\u001b[0m\u001b[1;33m\u001b[0m\u001b[1;33m\u001b[0m\u001b[0m\n\u001b[0;32m      5\u001b[0m \u001b[0mplt\u001b[0m\u001b[1;33m.\u001b[0m\u001b[0mtitle\u001b[0m\u001b[1;33m(\u001b[0m\u001b[1;34m'The Elbow Method showing the optimal k'\u001b[0m\u001b[1;33m)\u001b[0m\u001b[1;33m\u001b[0m\u001b[1;33m\u001b[0m\u001b[0m\n",
      "\u001b[1;31mNameError\u001b[0m: name 'silueta' is not defined"
     ]
    }
   ],
   "source": [
    "plt.figure(figsize=(16,8))\n",
    "plt.plot(K, silueta, 'bx-')\n",
    "plt.xlabel('k')\n",
    "plt.ylabel('Distortion')\n",
    "plt.title('The Elbow Method showing the optimal k')\n",
    "plt.show()"
   ]
  },
  {
   "cell_type": "code",
   "execution_count": 47,
   "metadata": {},
   "outputs": [
    {
     "data": {
      "text/plain": [
       "KMeans(n_clusters=3)"
      ]
     },
     "execution_count": 47,
     "metadata": {},
     "output_type": "execute_result"
    }
   ],
   "source": [
    "kmeanModel = KMeans(n_clusters=3)\n",
    "kmeanModel.fit(df_cluster)"
   ]
  },
  {
   "cell_type": "code",
   "execution_count": null,
   "metadata": {},
   "outputs": [],
   "source": [
    "#silhouette_score(df_cluster,kmeanModel.labels_, metric = 'euclidean')"
   ]
  },
  {
   "cell_type": "code",
   "execution_count": 48,
   "metadata": {},
   "outputs": [
    {
     "data": {
      "text/plain": [
       "array([2, 2, 0, ..., 2, 0, 0])"
      ]
     },
     "execution_count": 48,
     "metadata": {},
     "output_type": "execute_result"
    }
   ],
   "source": [
    "kmeanModel.labels_"
   ]
  },
  {
   "cell_type": "code",
   "execution_count": 50,
   "metadata": {},
   "outputs": [],
   "source": [
    "df2_encoder[\"cluster\"] = kmeanModel.labels_\n"
   ]
  },
  {
   "cell_type": "code",
   "execution_count": 51,
   "metadata": {},
   "outputs": [],
   "source": [
    "for i in range(0,len(columnas)):\n",
    "    fig,axs = plt.subplots(figsize=(17.5,10))\n",
    "    sns.barplot(ax = axs,\n",
    "                data =df2_encoder, \n",
    "                x = columnas[i], \n",
    "                y = columnas[i],\n",
    "                hue = df2_encoder[\"cluster\"],\n",
    "                estimator=lambda x: len(x) / len(df2) * 100)\n",
    "    plt.tight_layout()\n",
    "    axs.set_ylabel(\"Porcentaje\", fontsize = \"xx-large\")\n",
    "    axs.set_xlabel(columnas[i], fontsize = \"xx-large\")\n",
    "    fig.suptitle(columnas[i], fontsize = \"xx-large\")\n",
    "    fig.legend(fontsize = \"xx-large\")\n",
    "    fig.savefig(\"D:/AxelFolder/University/mineria_de_datos/ProyectoDataMining/Imagenes/\"+columnas[i]+\"_hue=cluster.jpg\", bbox_inches ='tight')\n",
    "    plt.close(fig)"
   ]
  },
  {
   "cell_type": "code",
   "execution_count": 52,
   "metadata": {},
   "outputs": [],
   "source": [
    "# No funcionó el clúster\n",
    "df2_encoder.drop(\"cluster\",axis = 1, inplace = True)"
   ]
  },
  {
   "cell_type": "markdown",
   "metadata": {},
   "source": [
    "#### Clúster jerárquico"
   ]
  },
  {
   "cell_type": "code",
   "execution_count": 53,
   "metadata": {},
   "outputs": [
    {
     "ename": "NameError",
     "evalue": "name 'DataFrame' is not defined",
     "output_type": "error",
     "traceback": [
      "\u001b[1;31m---------------------------------------------------------------------------\u001b[0m",
      "\u001b[1;31mNameError\u001b[0m                                 Traceback (most recent call last)",
      "\u001b[1;32m<ipython-input-53-831541542b1f>\u001b[0m in \u001b[0;36m<module>\u001b[1;34m\u001b[0m\n\u001b[0;32m      1\u001b[0m \u001b[1;31m# Se trabajaraa en Rstudio\u001b[0m\u001b[1;33m\u001b[0m\u001b[1;33m\u001b[0m\u001b[1;33m\u001b[0m\u001b[0m\n\u001b[1;32m----> 2\u001b[1;33m \u001b[0mDataFrame\u001b[0m\u001b[1;33m.\u001b[0m\u001b[0mto_csv\u001b[0m\u001b[1;33m(\u001b[0m\u001b[1;33m)\u001b[0m\u001b[1;33m\u001b[0m\u001b[1;33m\u001b[0m\u001b[0m\n\u001b[0m",
      "\u001b[1;31mNameError\u001b[0m: name 'DataFrame' is not defined"
     ]
    }
   ],
   "source": [
    "# Se trabajaraa en Rstudio \n",
    "DataFrame.to_csv()"
   ]
  },
  {
   "cell_type": "markdown",
   "metadata": {},
   "source": [
    "### Empleo de algoritmos para clasificar y predecir"
   ]
  },
  {
   "cell_type": "code",
   "execution_count": 54,
   "metadata": {},
   "outputs": [
    {
     "data": {
      "text/plain": [
       "['areag', 'ocudif', 'escodif', 'pnadif', 'predif', 'ciuodif']"
      ]
     },
     "execution_count": 54,
     "metadata": {},
     "output_type": "execute_result"
    }
   ],
   "source": [
    "muchos_nas"
   ]
  },
  {
   "cell_type": "markdown",
   "metadata": {},
   "source": [
    "\n",
    "### Predicción area_geográfica"
   ]
  },
  {
   "cell_type": "code",
   "execution_count": 55,
   "metadata": {},
   "outputs": [
    {
     "name": "stdout",
     "output_type": "stream",
     "text": [
      "['depreg', 'mupreg', 'depocu', 'mupocu', 'mredif', 'añoreg', 'añoocu', 'ciuodif', 'asist', 'ocur', 'areag']\n"
     ]
    },
    {
     "name": "stderr",
     "output_type": "stream",
     "text": [
      "<ipython-input-55-09c17d58257a>:8: SettingWithCopyWarning: \n",
      "A value is trying to be set on a copy of a slice from a DataFrame\n",
      "\n",
      "See the caveats in the documentation: https://pandas.pydata.org/pandas-docs/stable/user_guide/indexing.html#returning-a-view-versus-a-copy\n",
      "  df2_regresion.dropna(axis = 0,inplace = True, how = 'any', subset = [excepcion])\n"
     ]
    }
   ],
   "source": [
    "#df2_regresion = df2.drop(['ciuodif','pnadif','predif', 'ocudif', 'escodif','mnadif' ], axis = 1)\n",
    "target = \"areag\"\n",
    "excepcion = 'ciuodif'\n",
    "lista=creacion_listas(target,excepcion,muchos_nas)\n",
    "lista2 = lista.copy()\n",
    "print(lista2)\n",
    "df2_regresion = df2_encoder[lista2]\n",
    "df2_regresion.dropna(axis = 0,inplace = True, how = 'any', subset = [excepcion])\n",
    "df2_regresion.isna().sum()\n",
    "mask =df2_regresion[target].isna()\n",
    "Columnas_regresion=df2_regresion.columns.tolist()\n",
    "Columnas_x = Columnas_regresion.copy()\n",
    "Columnas_x.remove(target)\n",
    "df3 = df2_regresion[mask]\n",
    "df4 =  df2_regresion.drop(df2_regresion[mask].index)"
   ]
  },
  {
   "cell_type": "code",
   "execution_count": 56,
   "metadata": {},
   "outputs": [],
   "source": [
    "train,test=train_test_split(df4, test_size = 0.2, random_state = 666)"
   ]
  },
  {
   "cell_type": "code",
   "execution_count": 57,
   "metadata": {},
   "outputs": [],
   "source": [
    "try:\n",
    "    lista2.remove(target)\n",
    "except:\n",
    "    print(\"La variable: \"+target+\" ya fue removida\")"
   ]
  },
  {
   "cell_type": "markdown",
   "metadata": {},
   "source": [
    "## Random forest "
   ]
  },
  {
   "cell_type": "code",
   "execution_count": null,
   "metadata": {},
   "outputs": [],
   "source": [
    "#rmf = RandomForestRegressor (n_estimators = 200, \n",
    "                             #random_state = 666,\n",
    "                             #)\n"
   ]
  },
  {
   "cell_type": "code",
   "execution_count": null,
   "metadata": {},
   "outputs": [],
   "source": [
    "#scores = cross_val_score(rmf,\n",
    "                         #train[lista2],\n",
    "                         #train[target],\n",
    "                         #cv=10)\n",
    "\n",
    "#print(\"%0.2f de presición con desviación estándar de %0.2f\" % (scores.mean(), scores.std()))"
   ]
  },
  {
   "cell_type": "code",
   "execution_count": null,
   "metadata": {},
   "outputs": [],
   "source": [
    "#rmf.fit(train[lista2], train[target])\n",
    "#y=rmf.predict(test[lista2])"
   ]
  },
  {
   "cell_type": "code",
   "execution_count": null,
   "metadata": {},
   "outputs": [],
   "source": [
    "#print(\"score para el set de entrenamiento\")\n",
    "#print(rmf.score(train[lista2], train[target]))\n",
    "#print(\"\")\n",
    "#print(\"score para el set de prueba\")\n",
    "#rmf.score(test[lista2], test[target])"
   ]
  },
  {
   "cell_type": "code",
   "execution_count": null,
   "metadata": {},
   "outputs": [],
   "source": [
    "#print(\"no normalizado\")\n",
    "#print(pd.crosstab(test[target],np.round(y),rownames = [\"Verdadero\"], colnames = [\"Prediccion\"], margins = True))\n",
    "#print(\"\")\n",
    "#print(\"***************\")\n",
    "#print(\"\")\n",
    "#print(\"normalizado\")\n",
    "#print(pd.crosstab(test[target],np.round(y), normalize = True,rownames = [\"Verdadero\"], colnames = [\"Prediccion\"]))"
   ]
  },
  {
   "cell_type": "markdown",
   "metadata": {},
   "source": [
    "## Regresión logistica"
   ]
  },
  {
   "cell_type": "code",
   "execution_count": 58,
   "metadata": {},
   "outputs": [],
   "source": [
    "modelo_logistico = LogisticRegression( fit_intercept = True,\n",
    "                                      solver = 'lbfgs',\n",
    "                                      random_state = 666, \n",
    "                                      warm_start = True, \n",
    "                                      penalty = 'l2' ,\n",
    "                                     n_jobs = -1)"
   ]
  },
  {
   "cell_type": "code",
   "execution_count": 59,
   "metadata": {},
   "outputs": [
    {
     "name": "stdout",
     "output_type": "stream",
     "text": [
      "0.75 de presición con desviación estándar de 0.03\n"
     ]
    }
   ],
   "source": [
    "warnings.filterwarnings(\"ignore\")\n",
    "scores = cross_val_score(modelo_logistico,\n",
    "                         train[lista2], \n",
    "                         train[target], \n",
    "                         cv=10)\n",
    "\n",
    "print(\"%0.2f de presición con desviación estándar de %0.2f\" % (scores.mean(), scores.std()))"
   ]
  },
  {
   "cell_type": "code",
   "execution_count": 60,
   "metadata": {},
   "outputs": [
    {
     "data": {
      "text/plain": [
       "LogisticRegression(n_jobs=-1, random_state=666, warm_start=True)"
      ]
     },
     "execution_count": 60,
     "metadata": {},
     "output_type": "execute_result"
    }
   ],
   "source": [
    "modelo_logistico.fit(train[lista2], train[target])"
   ]
  },
  {
   "cell_type": "code",
   "execution_count": 54,
   "metadata": {},
   "outputs": [
    {
     "name": "stdout",
     "output_type": "stream",
     "text": [
      "score para el set de entrenamiento\n",
      "0.7814869184971166\n",
      "\n",
      "score para el set de prueba\n",
      "0.7822254065167279\n"
     ]
    }
   ],
   "source": [
    "print(\"score para el set de entrenamiento\")\n",
    "print(modelo_logistico.score(train[lista2], train[target]))\n",
    "print(\"\")\n",
    "print(\"score para el set de prueba\")\n",
    "print(modelo_logistico.score(test[lista2], test[target]))"
   ]
  },
  {
   "cell_type": "code",
   "execution_count": 61,
   "metadata": {},
   "outputs": [],
   "source": [
    "y_logistic=modelo_logistico.predict(test[lista2])"
   ]
  },
  {
   "cell_type": "code",
   "execution_count": 62,
   "metadata": {},
   "outputs": [
    {
     "name": "stdout",
     "output_type": "stream",
     "text": [
      "no normalizado\n",
      "Prediccion    1.0    2.0  9.0    All\n",
      "Verdadero                           \n",
      "1.0         28024   6144  265  34433\n",
      "2.0          6228  22188   70  28486\n",
      "9.0           322    953   10   1285\n",
      "All         34574  29285  345  64204\n",
      "\n",
      "***************\n",
      "\n",
      "normalizado\n",
      "Prediccion       1.0       2.0       9.0\n",
      "Verdadero                               \n",
      "1.0         0.436484  0.095695  0.004127\n",
      "2.0         0.097003  0.345586  0.001090\n",
      "9.0         0.005015  0.014843  0.000156\n"
     ]
    }
   ],
   "source": [
    "print(\"no normalizado\")\n",
    "print(pd.crosstab(test[target],np.round(y_logistic),rownames = [\"Verdadero\"], colnames = [\"Prediccion\"], margins = True))\n",
    "print(\"\")\n",
    "print(\"***************\")\n",
    "print(\"\")\n",
    "print(\"normalizado\")\n",
    "print(pd.crosstab(test[target],np.round(y_logistic), normalize = True,rownames = [\"Verdadero\"], colnames = [\"Prediccion\"]))"
   ]
  },
  {
   "cell_type": "markdown",
   "metadata": {},
   "source": [
    "## Árbol de clasificasión "
   ]
  },
  {
   "cell_type": "code",
   "execution_count": 63,
   "metadata": {},
   "outputs": [],
   "source": [
    "tree_model = DecisionTreeClassifier(criterion='entropy',\n",
    "                                             min_samples_split=20,\n",
    "                                             min_samples_leaf=5,\n",
    "                                             random_state = 666)"
   ]
  },
  {
   "cell_type": "code",
   "execution_count": 64,
   "metadata": {},
   "outputs": [
    {
     "name": "stdout",
     "output_type": "stream",
     "text": [
      "0.85 de presición con desviación estándar de 0.00\n"
     ]
    }
   ],
   "source": [
    "scores = cross_val_score(tree_model,\n",
    "                         train[lista2], \n",
    "                         train[target], \n",
    "                         cv=10)\n",
    "\n",
    "print(\"%0.2f de presición con desviación estándar de %0.2f\" % (scores.mean(), scores.std()))"
   ]
  },
  {
   "cell_type": "code",
   "execution_count": 65,
   "metadata": {},
   "outputs": [],
   "source": [
    "tree_model.fit(train[lista2], train[target])\n",
    "y_tree=tree_model.predict(test[lista2])"
   ]
  },
  {
   "cell_type": "code",
   "execution_count": 66,
   "metadata": {},
   "outputs": [
    {
     "name": "stdout",
     "output_type": "stream",
     "text": [
      "score para el set de entrenamiento\n",
      "0.8739978116372613\n",
      "\n",
      "score para el set de prueba\n",
      "0.84923057753411\n"
     ]
    }
   ],
   "source": [
    "print(\"score para el set de entrenamiento\")\n",
    "print(tree_model.score(train[lista2], train[target]))\n",
    "print(\"\")\n",
    "print(\"score para el set de prueba\")\n",
    "print(tree_model.score(test[lista2], test[target]))"
   ]
  },
  {
   "cell_type": "code",
   "execution_count": 67,
   "metadata": {},
   "outputs": [
    {
     "name": "stdout",
     "output_type": "stream",
     "text": [
      "no normalizado\n",
      "Prediccion    1.0    2.0  9.0    All\n",
      "Verdadero                           \n",
      "1.0         29023   5330   80  34433\n",
      "2.0          3139  25179  168  28486\n",
      "9.0           234    729  322   1285\n",
      "All         32396  31238  570  64204\n",
      "\n",
      "***************\n",
      "\n",
      "normalizado\n",
      "Prediccion       1.0       2.0       9.0       All\n",
      "Verdadero                                         \n",
      "1.0         0.452043  0.083017  0.001246  0.536306\n",
      "2.0         0.048891  0.392172  0.002617  0.443680\n",
      "9.0         0.003645  0.011354  0.005015  0.020014\n",
      "All         0.504579  0.486543  0.008878  1.000000\n"
     ]
    }
   ],
   "source": [
    "print(\"no normalizado\")\n",
    "print(pd.crosstab(test[target],np.round(y_tree),rownames = [\"Verdadero\"], colnames = [\"Prediccion\"], margins = True))\n",
    "print(\"\")\n",
    "print(\"***************\")\n",
    "print(\"\")\n",
    "print(\"normalizado\")\n",
    "print(pd.crosstab(test[target],np.round(y_tree), normalize = True,rownames = [\"Verdadero\"], colnames = [\"Prediccion\"],margins = True))"
   ]
  },
  {
   "cell_type": "markdown",
   "metadata": {},
   "source": [
    "#### Naive-Bayes para clasificación"
   ]
  },
  {
   "cell_type": "code",
   "execution_count": 68,
   "metadata": {},
   "outputs": [],
   "source": [
    "nb=CategoricalNB()"
   ]
  },
  {
   "cell_type": "code",
   "execution_count": 69,
   "metadata": {},
   "outputs": [
    {
     "name": "stdout",
     "output_type": "stream",
     "text": [
      "0.83 de presición con desviación estándar de 0.00\n"
     ]
    }
   ],
   "source": [
    "scores = cross_val_score(nb,\n",
    "                         train[lista2], \n",
    "                         train[target], \n",
    "                         cv=10)\n",
    "\n",
    "print(\"%0.2f de presición con desviación estándar de %0.2f\" % (scores.mean(), scores.std()))"
   ]
  },
  {
   "cell_type": "code",
   "execution_count": 70,
   "metadata": {},
   "outputs": [],
   "source": [
    "nb.fit(train[lista2], train[target])\n",
    "y_nb=nb.predict(test[lista2])"
   ]
  },
  {
   "cell_type": "code",
   "execution_count": 71,
   "metadata": {},
   "outputs": [
    {
     "name": "stdout",
     "output_type": "stream",
     "text": [
      "score para el set de entrenamiento\n",
      "0.8345761312706133\n",
      "\n",
      "score para el set de prueba\n",
      "0.83264282599215\n"
     ]
    }
   ],
   "source": [
    "print(\"score para el set de entrenamiento\")\n",
    "print(nb.score(train[lista2], train[target]))\n",
    "print(\"\")\n",
    "print(\"score para el set de prueba\")\n",
    "print(nb.score(test[lista2], test[target]))"
   ]
  },
  {
   "cell_type": "code",
   "execution_count": 72,
   "metadata": {},
   "outputs": [
    {
     "name": "stdout",
     "output_type": "stream",
     "text": [
      "no normalizado\n",
      "Prediccion    1.0    2.0   9.0    All\n",
      "Verdadero                            \n",
      "1.0         28481   5623   329  34433\n",
      "2.0          3104  24637   745  28486\n",
      "9.0           217    727   341   1285\n",
      "All         31802  30987  1415  64204\n",
      "\n",
      "***************\n",
      "\n",
      "normalizado\n",
      "Prediccion       1.0       2.0       9.0       All\n",
      "Verdadero                                         \n",
      "1.0         0.443602  0.087580  0.005124  0.536306\n",
      "2.0         0.048346  0.383730  0.011604  0.443680\n",
      "9.0         0.003380  0.011323  0.005311  0.020014\n",
      "All         0.495327  0.482633  0.022039  1.000000\n"
     ]
    }
   ],
   "source": [
    "print(\"no normalizado\")\n",
    "print(pd.crosstab(test[target],np.round(y_nb),rownames = [\"Verdadero\"], colnames = [\"Prediccion\"], margins = True))\n",
    "print(\"\")\n",
    "print(\"***************\")\n",
    "print(\"\")\n",
    "print(\"normalizado\")\n",
    "print(pd.crosstab(test[target],np.round(y_nb), normalize = True,rownames = [\"Verdadero\"], colnames = [\"Prediccion\"],margins = True))"
   ]
  },
  {
   "cell_type": "code",
   "execution_count": null,
   "metadata": {},
   "outputs": [],
   "source": [
    "## Red Neuronal"
   ]
  },
  {
   "cell_type": "code",
   "execution_count": 1,
   "metadata": {},
   "outputs": [
    {
     "ename": "NameError",
     "evalue": "name 'train' is not defined",
     "output_type": "error",
     "traceback": [
      "\u001b[1;31m---------------------------------------------------------------------------\u001b[0m",
      "\u001b[1;31mNameError\u001b[0m                                 Traceback (most recent call last)",
      "\u001b[1;32m<ipython-input-1-4edc044b55a7>\u001b[0m in \u001b[0;36m<module>\u001b[1;34m\u001b[0m\n\u001b[0;32m      1\u001b[0m \u001b[1;32mfrom\u001b[0m \u001b[0msklearn\u001b[0m\u001b[1;33m.\u001b[0m\u001b[0mpreprocessing\u001b[0m \u001b[1;32mimport\u001b[0m \u001b[0mStandardScaler\u001b[0m\u001b[1;33m\u001b[0m\u001b[1;33m\u001b[0m\u001b[0m\n\u001b[0;32m      2\u001b[0m \u001b[0mscaler\u001b[0m \u001b[1;33m=\u001b[0m \u001b[0mStandardScaler\u001b[0m\u001b[1;33m(\u001b[0m\u001b[1;33m)\u001b[0m\u001b[1;33m\u001b[0m\u001b[1;33m\u001b[0m\u001b[0m\n\u001b[1;32m----> 3\u001b[1;33m \u001b[0mscaler\u001b[0m\u001b[1;33m.\u001b[0m\u001b[0mfit\u001b[0m\u001b[1;33m(\u001b[0m\u001b[0mtrain\u001b[0m\u001b[1;33m[\u001b[0m\u001b[0mlista2\u001b[0m\u001b[1;33m]\u001b[0m\u001b[1;33m)\u001b[0m\u001b[1;33m\u001b[0m\u001b[1;33m\u001b[0m\u001b[0m\n\u001b[0m\u001b[0;32m      4\u001b[0m \u001b[0mtrain\u001b[0m\u001b[1;33m[\u001b[0m\u001b[0mlista2\u001b[0m\u001b[1;33m]\u001b[0m \u001b[1;33m=\u001b[0m \u001b[0mscaler\u001b[0m\u001b[1;33m.\u001b[0m\u001b[0mtransform\u001b[0m\u001b[1;33m(\u001b[0m\u001b[0mtrain\u001b[0m\u001b[1;33m[\u001b[0m\u001b[0mlista2\u001b[0m\u001b[1;33m]\u001b[0m\u001b[1;33m)\u001b[0m\u001b[1;33m\u001b[0m\u001b[1;33m\u001b[0m\u001b[0m\n\u001b[0;32m      5\u001b[0m \u001b[0mtest\u001b[0m\u001b[1;33m[\u001b[0m\u001b[0mlista2\u001b[0m\u001b[1;33m]\u001b[0m \u001b[1;33m=\u001b[0m \u001b[0mscaler\u001b[0m\u001b[1;33m.\u001b[0m\u001b[0mtransform\u001b[0m\u001b[1;33m(\u001b[0m\u001b[0mtest\u001b[0m\u001b[1;33m[\u001b[0m\u001b[0mlista2\u001b[0m\u001b[1;33m]\u001b[0m\u001b[1;33m)\u001b[0m\u001b[1;33m\u001b[0m\u001b[1;33m\u001b[0m\u001b[0m\n",
      "\u001b[1;31mNameError\u001b[0m: name 'train' is not defined"
     ]
    }
   ],
   "source": [
    "from sklearn.preprocessing import StandardScaler\n",
    "scaler = StandardScaler()\n",
    "scaler.fit(train[lista2])\n",
    "train[lista2] = scaler.transform(train[lista2])\n",
    "test[lista2] = scaler.transform(test[lista2])\n",
    "\n",
    "from sklearn.neural_network import MLPClassifier\n",
    "mlp = MLPClassifier(hidden_layer_sizes=(6,6,6,6),solver='lbfgs',max_iter=600)\n",
    "scores = cross_val_score(mlp,\n",
    "                         train[lista2], \n",
    "                         train[target], \n",
    "                         cv=10)\n",
    "\n",
    "print(\"%0.2f de presición con desviación estándar de %0.2f\" % (scores.mean(), scores.std()))\n",
    "mlp.fit(train[lista2], train[target])\n",
    "predictions = mlp.predict(test[lista2])\n",
    "\n",
    "from sklearn.metrics import classification_report\n",
    "print(classification_report(test[target],predictions))"
   ]
  },
  {
   "cell_type": "markdown",
   "metadata": {},
   "source": [
    "## Escolaridad"
   ]
  },
  {
   "cell_type": "code",
   "execution_count": 96,
   "metadata": {},
   "outputs": [
    {
     "name": "stdout",
     "output_type": "stream",
     "text": [
      "Los data frames ya fueron reiniciados\n"
     ]
    }
   ],
   "source": [
    "try: \n",
    "    del df3,df4\n",
    "except:\n",
    "    print(\"Los data frames ya fueron reiniciados\")"
   ]
  },
  {
   "cell_type": "code",
   "execution_count": 98,
   "metadata": {},
   "outputs": [
    {
     "data": {
      "text/plain": [
       "['añoreg', 'añoocu', 'nacdif', 'ciuodif', 'puedif', 'ocur', 'escodif']"
      ]
     },
     "execution_count": 98,
     "metadata": {},
     "output_type": "execute_result"
    }
   ],
   "source": [
    "target = \"escodif\"\n",
    "diccionario[target]"
   ]
  },
  {
   "cell_type": "code",
   "execution_count": 99,
   "metadata": {},
   "outputs": [
    {
     "name": "stdout",
     "output_type": "stream",
     "text": [
      "['añoreg', 'añoocu', 'nacdif', 'puedif', 'ocur', 'escodif']\n"
     ]
    }
   ],
   "source": [
    "target = \"escodif\"\n",
    "excepcion = 'puedif'\n",
    "lista=creacion_listas(target,excepcion,muchos_nas)\n",
    "lista2 = lista.copy()\n",
    "print(lista2)\n",
    "\n",
    "df2_regresion = df2_encoder[lista2]\n",
    "try:\n",
    "    df2_regresion.dropna(axis = 0,inplace = True, how = 'any', subset = [excepcion])\n",
    "except:\n",
    "    print(\"\")\n",
    "df2_regresion.isna().sum()\n",
    "\n",
    "mask =df2_regresion[target].isna()\n",
    "\n",
    "Columnas_regresion=df2_regresion.columns.tolist()\n",
    "Columnas_x = Columnas_regresion.copy()\n",
    "Columnas_x.remove(target)\n",
    "\n",
    "df3 = df2_regresion[mask]\n",
    "df4 =  df2_regresion.drop(df2_regresion[mask].index)"
   ]
  },
  {
   "cell_type": "code",
   "execution_count": 100,
   "metadata": {},
   "outputs": [],
   "source": [
    "train,test=train_test_split(df4, test_size = 0.2, random_state = 666)\n",
    "try:\n",
    "    lista2.remove(target)\n",
    "except:\n",
    "    print(\"La variable: \"+target+\" ya fue removida\")"
   ]
  },
  {
   "cell_type": "markdown",
   "metadata": {},
   "source": [
    "## Random forest "
   ]
  },
  {
   "cell_type": "code",
   "execution_count": null,
   "metadata": {},
   "outputs": [],
   "source": [
    "#rmf = RandomForestRegressor (n_estimators = 200, \n",
    "                            # random_state = 666,\n",
    "                            # )"
   ]
  },
  {
   "cell_type": "code",
   "execution_count": null,
   "metadata": {},
   "outputs": [],
   "source": [
    "#scores = cross_val_score(rmf,\n",
    "#                         train[lista2],\n",
    " #                        train[target],\n",
    "  #                       cv=10)\n",
    "#\n",
    "#print(\"%0.2f de presición con desviación estándar de %0.2f\" % (scores.mean(), scores.std()))"
   ]
  },
  {
   "cell_type": "code",
   "execution_count": null,
   "metadata": {},
   "outputs": [],
   "source": [
    "#rmf.fit(train[lista2], train[target])\n",
    "#y=rmf.predict(test[lista2])"
   ]
  },
  {
   "cell_type": "code",
   "execution_count": null,
   "metadata": {},
   "outputs": [],
   "source": [
    "#print(\"score para el set de entrenamiento\")\n",
    "#print(rmf.score(train[lista2], train[target]))\n",
    "#print(\"\")\n",
    "#print(\"score para el set de prueba\")\n",
    "#rmf.score(test[lista2], test[target])"
   ]
  },
  {
   "cell_type": "code",
   "execution_count": null,
   "metadata": {},
   "outputs": [],
   "source": [
    "#y=rmf.predict(test[lista2])\n",
    "#print(\"no normalizado\")\n",
    "#print(pd.crosstab(test[target],np.round(y),rownames = [\"Verdadero\"], colnames = [\"Prediccion\"], margins = True))\n",
    "#print(\"\")\n",
    "#print(\"***************\")\n",
    "#print(\"\")\n",
    "#print(\"normalizado\")\n",
    "#print(pd.crosstab(test[target],np.round(y), normalize = True,rownames = [\"Verdadero\"], colnames = [\"Prediccion\"]))"
   ]
  },
  {
   "cell_type": "markdown",
   "metadata": {},
   "source": [
    "## Regresión lógistica"
   ]
  },
  {
   "cell_type": "code",
   "execution_count": 101,
   "metadata": {},
   "outputs": [],
   "source": [
    "modelo_logistico = LogisticRegression( fit_intercept = True,\n",
    "                                      solver = 'lbfgs',\n",
    "                                      random_state = 666, \n",
    "                                      warm_start = True, \n",
    "                                      penalty = 'l2' ,\n",
    "                                     n_jobs = -1)"
   ]
  },
  {
   "cell_type": "code",
   "execution_count": 102,
   "metadata": {},
   "outputs": [
    {
     "name": "stdout",
     "output_type": "stream",
     "text": [
      "0.55 de presición con desviación estándar de 0.00\n"
     ]
    }
   ],
   "source": [
    "warnings.filterwarnings(\"ignore\")\n",
    "scores = cross_val_score(modelo_logistico,\n",
    "                         train[lista2], \n",
    "                         train[target], \n",
    "                         cv=10)\n",
    "\n",
    "print(\"%0.2f de presición con desviación estándar de %0.2f\" % (scores.mean(), scores.std()))"
   ]
  },
  {
   "cell_type": "code",
   "execution_count": 103,
   "metadata": {},
   "outputs": [],
   "source": [
    "modelo_logistico.fit(train[lista2], train[target])\n",
    "y_logistic=modelo_logistico.predict(test[lista2])"
   ]
  },
  {
   "cell_type": "code",
   "execution_count": 81,
   "metadata": {},
   "outputs": [
    {
     "name": "stdout",
     "output_type": "stream",
     "text": [
      "score para el set de entrenamiento\n",
      "0.5593164259035014\n",
      "\n",
      "score para el set de prueba\n",
      "0.5630355291164111\n"
     ]
    }
   ],
   "source": [
    "print(\"score para el set de entrenamiento\")\n",
    "print(modelo_logistico.score(train[lista2], train[target]))\n",
    "print(\"\")\n",
    "print(\"score para el set de prueba\")\n",
    "print(modelo_logistico.score(test[lista2], test[target]))"
   ]
  },
  {
   "cell_type": "code",
   "execution_count": 104,
   "metadata": {},
   "outputs": [
    {
     "name": "stdout",
     "output_type": "stream",
     "text": [
      "no normalizado\n",
      "Prediccion    1.0  2.0  4.0    All\n",
      "Verdadero                         \n",
      "1.0         40494  142    0  40636\n",
      "2.0         17077   93    0  17170\n",
      "3.0          2990   23    0   3013\n",
      "4.0          4153   11    1   4165\n",
      "5.0           955    4    0    959\n",
      "6.0            21    0    0     21\n",
      "9.0          7319    9    0   7328\n",
      "All         73009  282    1  73292\n",
      "\n",
      "***************\n",
      "\n",
      "normalizado\n",
      "Prediccion       1.0       2.0       4.0\n",
      "Verdadero                               \n",
      "1.0         0.552502  0.001937  0.000000\n",
      "2.0         0.233000  0.001269  0.000000\n",
      "3.0         0.040796  0.000314  0.000000\n",
      "4.0         0.056664  0.000150  0.000014\n",
      "5.0         0.013030  0.000055  0.000000\n",
      "6.0         0.000287  0.000000  0.000000\n",
      "9.0         0.099861  0.000123  0.000000\n"
     ]
    }
   ],
   "source": [
    "print(\"no normalizado\")\n",
    "print(pd.crosstab(test[target],np.round(y_logistic),rownames = [\"Verdadero\"], colnames = [\"Prediccion\"], margins = True))\n",
    "print(\"\")\n",
    "print(\"***************\")\n",
    "print(\"\")\n",
    "print(\"normalizado\")\n",
    "print(pd.crosstab(test[target],np.round(y_logistic), normalize = True,rownames = [\"Verdadero\"], colnames = [\"Prediccion\"]))"
   ]
  },
  {
   "cell_type": "markdown",
   "metadata": {},
   "source": [
    "## Árbol de clasificasión "
   ]
  },
  {
   "cell_type": "code",
   "execution_count": 105,
   "metadata": {},
   "outputs": [],
   "source": [
    "tree_model = DecisionTreeClassifier(criterion='entropy',\n",
    "                                             min_samples_split=20,\n",
    "                                             min_samples_leaf=5,\n",
    "                                             random_state = 666)"
   ]
  },
  {
   "cell_type": "code",
   "execution_count": 106,
   "metadata": {},
   "outputs": [
    {
     "name": "stdout",
     "output_type": "stream",
     "text": [
      "0.58 de presición con desviación estándar de 0.00\n"
     ]
    }
   ],
   "source": [
    "scores = cross_val_score(tree_model,\n",
    "                         train[lista2], \n",
    "                         train[target], \n",
    "                         cv=10)\n",
    "\n",
    "print(\"%0.2f de presición con desviación estándar de %0.2f\" % (scores.mean(), scores.std()))"
   ]
  },
  {
   "cell_type": "code",
   "execution_count": 107,
   "metadata": {},
   "outputs": [],
   "source": [
    "tree_model.fit(train[lista2], train[target])\n",
    "y_tree=tree_model.predict(test[lista2])"
   ]
  },
  {
   "cell_type": "code",
   "execution_count": 108,
   "metadata": {},
   "outputs": [
    {
     "name": "stdout",
     "output_type": "stream",
     "text": [
      "score para el set de entrenamiento\n",
      "0.5773097061381816\n",
      "\n",
      "score para el set de prueba\n",
      "0.5775391584347541\n"
     ]
    }
   ],
   "source": [
    "print(\"score para el set de entrenamiento\")\n",
    "print(tree_model.score(train[lista2], train[target]))\n",
    "print(\"\")\n",
    "print(\"score para el set de prueba\")\n",
    "print(tree_model.score(test[lista2], test[target]))"
   ]
  },
  {
   "cell_type": "code",
   "execution_count": 109,
   "metadata": {},
   "outputs": [
    {
     "name": "stdout",
     "output_type": "stream",
     "text": [
      "no normalizado\n",
      "Prediccion    1.0    2.0  3.0  4.0  5.0  9.0    All\n",
      "Verdadero                                          \n",
      "1.0         37119   3301    1    5    1  209  40636\n",
      "2.0         12156   4904    1    7    5   97  17170\n",
      "3.0          1479   1489    1    5    5   34   3013\n",
      "4.0          2144   1925    1   19   20   56   4165\n",
      "5.0           516    401    1   10   13   18    959\n",
      "6.0            12      8    0    0    1    0     21\n",
      "9.0          6530    503    1   10   11  273   7328\n",
      "All         59956  12531    6   56   56  687  73292\n",
      "\n",
      "***************\n",
      "\n",
      "normalizado\n",
      "Prediccion       1.0       2.0       3.0       4.0       5.0       9.0  \\\n",
      "Verdadero                                                                \n",
      "1.0         0.506454  0.045039  0.000014  0.000068  0.000014  0.002852   \n",
      "2.0         0.165857  0.066910  0.000014  0.000096  0.000068  0.001323   \n",
      "3.0         0.020180  0.020316  0.000014  0.000068  0.000068  0.000464   \n",
      "4.0         0.029253  0.026265  0.000014  0.000259  0.000273  0.000764   \n",
      "5.0         0.007040  0.005471  0.000014  0.000136  0.000177  0.000246   \n",
      "6.0         0.000164  0.000109  0.000000  0.000000  0.000014  0.000000   \n",
      "9.0         0.089096  0.006863  0.000014  0.000136  0.000150  0.003725   \n",
      "All         0.818043  0.170974  0.000082  0.000764  0.000764  0.009373   \n",
      "\n",
      "Prediccion       All  \n",
      "Verdadero             \n",
      "1.0         0.554440  \n",
      "2.0         0.234268  \n",
      "3.0         0.041110  \n",
      "4.0         0.056827  \n",
      "5.0         0.013085  \n",
      "6.0         0.000287  \n",
      "9.0         0.099984  \n",
      "All         1.000000  \n"
     ]
    }
   ],
   "source": [
    "print(\"no normalizado\")\n",
    "print(pd.crosstab(test[target],np.round(y_tree),rownames = [\"Verdadero\"], colnames = [\"Prediccion\"], margins = True))\n",
    "print(\"\")\n",
    "print(\"***************\")\n",
    "print(\"\")\n",
    "print(\"normalizado\")\n",
    "print(pd.crosstab(test[target],np.round(y_tree), normalize = True,rownames = [\"Verdadero\"], colnames = [\"Prediccion\"],margins = True))"
   ]
  },
  {
   "cell_type": "markdown",
   "metadata": {},
   "source": [
    "## Naive Bayes"
   ]
  },
  {
   "cell_type": "code",
   "execution_count": 110,
   "metadata": {},
   "outputs": [],
   "source": [
    "nb=CategoricalNB()"
   ]
  },
  {
   "cell_type": "code",
   "execution_count": 111,
   "metadata": {},
   "outputs": [
    {
     "name": "stdout",
     "output_type": "stream",
     "text": [
      "0.54 de presición con desviación estándar de 0.00\n"
     ]
    }
   ],
   "source": [
    "scores = cross_val_score(nb,\n",
    "                         train[lista2], \n",
    "                         train[target], \n",
    "                         cv=10)\n",
    "\n",
    "print(\"%0.2f de presición con desviación estándar de %0.2f\" % (scores.mean(), scores.std()))"
   ]
  },
  {
   "cell_type": "code",
   "execution_count": 112,
   "metadata": {},
   "outputs": [],
   "source": [
    "nb.fit(train[lista2], train[target])\n",
    "y_nb=nb.predict(test[lista2])"
   ]
  },
  {
   "cell_type": "code",
   "execution_count": 113,
   "metadata": {},
   "outputs": [
    {
     "name": "stdout",
     "output_type": "stream",
     "text": [
      "score para el set de entrenamiento\n",
      "0.5380417171217574\n",
      "\n",
      "score para el set de prueba\n",
      "0.5381897069257218\n"
     ]
    }
   ],
   "source": [
    "print(\"score para el set de entrenamiento\")\n",
    "print(nb.score(train[lista2], train[target]))\n",
    "print(\"\")\n",
    "print(\"score para el set de prueba\")\n",
    "print(nb.score(test[lista2], test[target]))"
   ]
  },
  {
   "cell_type": "code",
   "execution_count": 114,
   "metadata": {},
   "outputs": [
    {
     "name": "stdout",
     "output_type": "stream",
     "text": [
      "no normalizado\n",
      "Prediccion    1.0    2.0  3.0  4.0  5.0    9.0    All\n",
      "Verdadero                                            \n",
      "1.0         31544   4528    1    7    1   4555  40636\n",
      "2.0          9583   5550    0   11    1   2025  17170\n",
      "3.0          1239   1327    0    7    0    440   3013\n",
      "4.0          1650   1891    1   21    2    600   4165\n",
      "5.0           365    444    1   10    6    133    959\n",
      "6.0            11     10    0    0    0      0     21\n",
      "9.0          4687    305    2    6    4   2324   7328\n",
      "All         49079  14055    5   62   14  10077  73292\n",
      "\n",
      "***************\n",
      "\n",
      "normalizado\n",
      "Prediccion       1.0       2.0       3.0       4.0       5.0       9.0  \\\n",
      "Verdadero                                                                \n",
      "1.0         0.430388  0.061780  0.000014  0.000096  0.000014  0.062149   \n",
      "2.0         0.130751  0.075724  0.000000  0.000150  0.000014  0.027629   \n",
      "3.0         0.016905  0.018106  0.000000  0.000096  0.000000  0.006003   \n",
      "4.0         0.022513  0.025801  0.000014  0.000287  0.000027  0.008186   \n",
      "5.0         0.004980  0.006058  0.000014  0.000136  0.000082  0.001815   \n",
      "6.0         0.000150  0.000136  0.000000  0.000000  0.000000  0.000000   \n",
      "9.0         0.063950  0.004161  0.000027  0.000082  0.000055  0.031709   \n",
      "All         0.669637  0.191767  0.000068  0.000846  0.000191  0.137491   \n",
      "\n",
      "Prediccion       All  \n",
      "Verdadero             \n",
      "1.0         0.554440  \n",
      "2.0         0.234268  \n",
      "3.0         0.041110  \n",
      "4.0         0.056827  \n",
      "5.0         0.013085  \n",
      "6.0         0.000287  \n",
      "9.0         0.099984  \n",
      "All         1.000000  \n"
     ]
    }
   ],
   "source": [
    "print(\"no normalizado\")\n",
    "print(pd.crosstab(test[target],np.round(y_nb),rownames = [\"Verdadero\"], colnames = [\"Prediccion\"], margins = True))\n",
    "print(\"\")\n",
    "print(\"***************\")\n",
    "print(\"\")\n",
    "print(\"normalizado\")\n",
    "print(pd.crosstab(test[target],np.round(y_nb), normalize = True,rownames = [\"Verdadero\"], colnames = [\"Prediccion\"],margins = True))"
   ]
  },
  {
   "cell_type": "code",
   "execution_count": 94,
   "metadata": {},
   "outputs": [],
   "source": [
    "## Redes Neuronales"
   ]
  },
  {
   "cell_type": "code",
   "execution_count": 93,
   "metadata": {},
   "outputs": [
    {
     "name": "stdout",
     "output_type": "stream",
     "text": [
      "              precision    recall  f1-score   support\n",
      "\n",
      "         1.0       0.64      0.91      0.75     40636\n",
      "         2.0       0.46      0.32      0.37     17170\n",
      "         3.0       0.00      0.00      0.00      3013\n",
      "         4.0       0.55      0.28      0.37      4165\n",
      "         5.0       0.52      0.18      0.26       959\n",
      "         6.0       0.00      0.00      0.00        21\n",
      "         9.0       0.50      0.09      0.15      7328\n",
      "\n",
      "    accuracy                           0.60     73292\n",
      "   macro avg       0.38      0.25      0.27     73292\n",
      "weighted avg       0.55      0.60      0.54     73292\n",
      "\n"
     ]
    }
   ],
   "source": [
    "from sklearn.preprocessing import StandardScaler\n",
    "scaler = StandardScaler()\n",
    "scaler.fit(train[lista2])\n",
    "train[lista2] = scaler.transform(train[lista2])\n",
    "test[lista2] = scaler.transform(test[lista2])\n",
    "\n",
    "from sklearn.neural_network import MLPClassifier\n",
    "mlp = MLPClassifier(hidden_layer_sizes=(6,6,6,6),solver='lbfgs',max_iter=600)\n",
    "mlp.fit(train[lista2], train[target])\n",
    "predictions = mlp.predict(test[lista2])\n",
    "\n",
    "from sklearn.metrics import classification_report\n",
    "print(classification_report(test[target],predictions))"
   ]
  },
  {
   "cell_type": "markdown",
   "metadata": {},
   "source": [
    "## Pueblo del difunto"
   ]
  },
  {
   "cell_type": "code",
   "execution_count": 115,
   "metadata": {},
   "outputs": [],
   "source": [
    "try: \n",
    "    del df3,df4\n",
    "except:\n",
    "    print(\"Los data frames ya fueron reiniciados\")"
   ]
  },
  {
   "cell_type": "code",
   "execution_count": 116,
   "metadata": {},
   "outputs": [
    {
     "data": {
      "text/plain": [
       "['depreg',\n",
       " 'mupreg',\n",
       " 'depocu',\n",
       " 'mupocu',\n",
       " 'mredif',\n",
       " 'dredif',\n",
       " 'mnadif',\n",
       " 'dnadif',\n",
       " 'añoreg',\n",
       " 'añoocu',\n",
       " 'pnadif',\n",
       " 'escodif',\n",
       " 'ocudif',\n",
       " 'ciuodif',\n",
       " 'predif']"
      ]
     },
     "execution_count": 116,
     "metadata": {},
     "output_type": "execute_result"
    }
   ],
   "source": [
    "target = \"puedif\"\n",
    "diccionario[\"puedif\"]"
   ]
  },
  {
   "cell_type": "code",
   "execution_count": 117,
   "metadata": {},
   "outputs": [
    {
     "name": "stdout",
     "output_type": "stream",
     "text": [
      "['mupocu', 'añoocu', 'dnadif', 'mupreg', 'añoreg', 'depocu', 'dredif', 'depreg', 'ciuodif', 'escodif', 'puedif', 'mredif', 'mnadif']\n",
      "\n"
     ]
    }
   ],
   "source": [
    "\n",
    "excepcion = \"\"\n",
    "lista=creacion_listas(target,excepcion,muchos_nas)\n",
    "lista2 = list(set(lista.copy()))\n",
    "print(lista2)\n",
    "\n",
    "df2_regresion = df2_encoder[lista2]\n",
    "try:\n",
    "    df2_regresion.dropna(axis = 0,inplace = True, how = 'any', subset = [excepcion])\n",
    "except:\n",
    "    print(\"\")\n",
    "df2_regresion.isna().sum()\n",
    "\n",
    "mask =df2_regresion[target].isna()\n",
    "\n",
    "Columnas_regresion=df2_regresion.columns.tolist()\n",
    "Columnas_x = Columnas_regresion.copy()\n",
    "Columnas_x.remove(target)\n",
    "\n",
    "df3 = df2_regresion[mask]\n",
    "df4 =  df2_regresion.drop(df2_regresion[mask].index)"
   ]
  },
  {
   "cell_type": "code",
   "execution_count": 121,
   "metadata": {},
   "outputs": [],
   "source": [
    "train,test=train_test_split(df4, test_size = 0.2, random_state = 666)"
   ]
  },
  {
   "cell_type": "code",
   "execution_count": 122,
   "metadata": {},
   "outputs": [
    {
     "name": "stdout",
     "output_type": "stream",
     "text": [
      "La variable: puedif ya fue removida\n"
     ]
    }
   ],
   "source": [
    "\n",
    "try:\n",
    "    lista2.remove(target)\n",
    "except:\n",
    "    print(\"La variable: \"+target+\" ya fue removida\")"
   ]
  },
  {
   "cell_type": "markdown",
   "metadata": {},
   "source": [
    "## Random forest "
   ]
  },
  {
   "cell_type": "code",
   "execution_count": null,
   "metadata": {},
   "outputs": [],
   "source": [
    "#rmf = RandomForestRegressor (n_estimators = 200, \n",
    "                            # random_state = 666,\n",
    "                            # )"
   ]
  },
  {
   "cell_type": "code",
   "execution_count": null,
   "metadata": {},
   "outputs": [],
   "source": [
    "#scores = cross_val_score(rmf,\n",
    "                         #train[lista2],\n",
    "                         #train[target],\n",
    "                         #cv=10)\n",
    "\n",
    "#print(\"%0.2f de presición con desviación estándar de %0.2f\" % (scores.mean(), scores.std()))"
   ]
  },
  {
   "cell_type": "code",
   "execution_count": null,
   "metadata": {},
   "outputs": [],
   "source": [
    "#rmf.fit(train[lista2], train[target])\n",
    "#y=rmf.predict(test[lista2])"
   ]
  },
  {
   "cell_type": "code",
   "execution_count": null,
   "metadata": {},
   "outputs": [],
   "source": [
    "#print(\"score para el set de entrenamiento\")\n",
    "#print(rmf.score(train[lista2], train[target]))\n",
    "#print(\"\")\n",
    "#print(\"score para el set de prueba\")\n",
    "#rmf.score(test[lista2], test[target])"
   ]
  },
  {
   "cell_type": "code",
   "execution_count": null,
   "metadata": {},
   "outputs": [],
   "source": [
    "#y=rmf.predict(test[lista2])\n",
    "#print(\"no normalizado\")\n",
    "#print(pd.crosstab(test[target],np.round(y),rownames = [\"Verdadero\"], colnames = [\"Prediccion\"], margins = True))\n",
    "#print(\"\")\n",
    "#print(\"***************\")\n",
    "#print(\"\")\n",
    "#print(\"normalizado\")\n",
    "#print(pd.crosstab(test[target],np.round(y), normalize = True,rownames = [\"Verdadero\"], colnames = [\"Prediccion\"]))"
   ]
  },
  {
   "cell_type": "markdown",
   "metadata": {},
   "source": [
    "## Regresión lógistica"
   ]
  },
  {
   "cell_type": "code",
   "execution_count": null,
   "metadata": {},
   "outputs": [],
   "source": [
    "modelo_logistico = LogisticRegression( fit_intercept = True,\n",
    "                                      solver = 'lbfgs',\n",
    "                                      random_state = 666, \n",
    "                                      warm_start = True, \n",
    "                                      penalty = 'l2' ,\n",
    "                                     n_jobs = -1)"
   ]
  },
  {
   "cell_type": "code",
   "execution_count": null,
   "metadata": {},
   "outputs": [],
   "source": [
    "warnings.filterwarnings(\"ignore\")\n",
    "scores = cross_val_score(modelo_logistico,\n",
    "                         train[lista2], \n",
    "                         train[target], \n",
    "                         cv=10)\n",
    "\n",
    "print(\"%0.2f de presición con desviación estándar de %0.2f\" % (scores.mean(), scores.std()))"
   ]
  },
  {
   "cell_type": "code",
   "execution_count": null,
   "metadata": {},
   "outputs": [],
   "source": [
    "modelo_logistico.fit(train[lista2], train[target])\n",
    "y_logistic=modelo_logistico.predict(test[lista2])"
   ]
  },
  {
   "cell_type": "code",
   "execution_count": null,
   "metadata": {},
   "outputs": [],
   "source": [
    "print(\"score para el set de entrenamiento\")\n",
    "print(modelo_logistico.score(train[lista2], train[target]))\n",
    "print(\"\")\n",
    "print(\"score para el set de prueba\")\n",
    "print(modelo_logistico.score(test[lista2], test[target]))"
   ]
  },
  {
   "cell_type": "code",
   "execution_count": null,
   "metadata": {},
   "outputs": [],
   "source": [
    "print(\"no normalizado\")\n",
    "print(pd.crosstab(test[target],np.round(y_logistic),rownames = [\"Verdadero\"], colnames = [\"Prediccion\"], margins = True))\n",
    "print(\"\")\n",
    "print(\"***************\")\n",
    "print(\"\")\n",
    "print(\"normalizado\")\n",
    "print(pd.crosstab(test[target],np.round(y_logistic), normalize = True,rownames = [\"Verdadero\"], colnames = [\"Prediccion\"],margins = True))"
   ]
  },
  {
   "cell_type": "markdown",
   "metadata": {},
   "source": [
    "## Árbol de desición"
   ]
  },
  {
   "cell_type": "code",
   "execution_count": null,
   "metadata": {},
   "outputs": [],
   "source": [
    "tree_model = DecisionTreeClassifier(criterion='entropy',\n",
    "                                             min_samples_split=20,\n",
    "                                             min_samples_leaf=5,\n",
    "                                             random_state = 666)"
   ]
  },
  {
   "cell_type": "code",
   "execution_count": null,
   "metadata": {},
   "outputs": [],
   "source": [
    "scores = cross_val_score(tree_model,\n",
    "                         train[lista2], \n",
    "                         train[target], \n",
    "                         cv=10)\n",
    "\n",
    "print(\"%0.2f de presición con desviación estándar de %0.2f\" % (scores.mean(), scores.std()))"
   ]
  },
  {
   "cell_type": "code",
   "execution_count": null,
   "metadata": {},
   "outputs": [],
   "source": [
    "tree_model.fit(train[lista2], train[target])\n",
    "y_tree=tree_model.predict(test[lista2])"
   ]
  },
  {
   "cell_type": "code",
   "execution_count": null,
   "metadata": {},
   "outputs": [],
   "source": [
    "print(\"score para el set de entrenamiento\")\n",
    "print(tree_model.score(train[lista2], train[target]))\n",
    "print(\"\")\n",
    "print(\"score para el set de prueba\")\n",
    "print(tree_model.score(test[lista2], test[target]))"
   ]
  },
  {
   "cell_type": "code",
   "execution_count": null,
   "metadata": {},
   "outputs": [],
   "source": [
    "print(\"no normalizado\")\n",
    "print(pd.crosstab(test[target],np.round(y_tree),rownames = [\"Verdadero\"], colnames = [\"Prediccion\"], margins = True))\n",
    "print(\"\")\n",
    "print(\"***************\")\n",
    "print(\"\")\n",
    "print(\"normalizado\")\n",
    "print(pd.crosstab(test[target],np.round(y_tree), normalize = True,rownames = [\"Verdadero\"], colnames = [\"Prediccion\"],margins = True))"
   ]
  },
  {
   "cell_type": "markdown",
   "metadata": {},
   "source": [
    "## Naive-Bayes"
   ]
  },
  {
   "cell_type": "code",
   "execution_count": null,
   "metadata": {},
   "outputs": [],
   "source": [
    "nb=CategoricalNB()"
   ]
  },
  {
   "cell_type": "code",
   "execution_count": null,
   "metadata": {},
   "outputs": [],
   "source": [
    "scores = cross_val_score(nb,\n",
    "                         train[lista2], \n",
    "                         train[target], \n",
    "                         cv=10)\n",
    "\n",
    "print(\"%0.2f de presición con desviación estándar de %0.2f\" % (scores.mean(), scores.std()))"
   ]
  },
  {
   "cell_type": "code",
   "execution_count": null,
   "metadata": {},
   "outputs": [],
   "source": [
    "nb.fit(train[lista2], train[target])\n",
    "y_nb=nb.predict(test[lista2])"
   ]
  },
  {
   "cell_type": "code",
   "execution_count": null,
   "metadata": {},
   "outputs": [],
   "source": [
    "print(\"score para el set de entrenamiento\")\n",
    "print(nb.score(train[lista2], train[target]))\n",
    "print(\"\")\n",
    "print(\"score para el set de prueba\")\n",
    "print(nb.score(test[lista2], test[target]))"
   ]
  },
  {
   "cell_type": "code",
   "execution_count": null,
   "metadata": {},
   "outputs": [],
   "source": [
    "print(\"no normalizado\")\n",
    "print(pd.crosstab(test[target],np.round(y_nb),rownames = [\"Verdadero\"], colnames = [\"Prediccion\"], margins = True))\n",
    "print(\"\")\n",
    "print(\"***************\")\n",
    "print(\"\")\n",
    "print(\"normalizado\")\n",
    "print(pd.crosstab(test[target],np.round(y_nb), normalize = True,rownames = [\"Verdadero\"], colnames = [\"Prediccion\"],margins = True))"
   ]
  },
  {
   "cell_type": "code",
   "execution_count": null,
   "metadata": {},
   "outputs": [],
   "source": [
    "## Red Neuronal"
   ]
  },
  {
   "cell_type": "code",
   "execution_count": 146,
   "metadata": {},
   "outputs": [
    {
     "name": "stdout",
     "output_type": "stream",
     "text": [
      "              precision    recall  f1-score   support\n",
      "\n",
      "           1       0.60      0.57      0.58     21920\n",
      "           2       0.56      0.62      0.59      9631\n",
      "           3       0.00      0.00      0.00        18\n",
      "           4       0.69      0.89      0.78     27368\n",
      "           5       0.00      0.00      0.00       575\n",
      "           9       0.72      0.47      0.57     20488\n",
      "\n",
      "    accuracy                           0.65     80000\n",
      "   macro avg       0.43      0.42      0.42     80000\n",
      "weighted avg       0.65      0.65      0.64     80000\n",
      "\n"
     ]
    }
   ],
   "source": [
    "df4 =  df2_regresion.drop(df2_regresion[mask].index)\n",
    "train, test = train_test_split(df4, test_size = 0.2, random_state = 666)\n",
    "\n",
    "train[lista2] = train[lista2].fillna(0)\n",
    "train[target] = train[target].fillna(0)\n",
    "\n",
    "test[lista2] = test[lista2].fillna(0)\n",
    "test[target] = test[target].fillna(0)\n",
    "\n",
    "from sklearn.preprocessing import StandardScaler\n",
    "scaler = StandardScaler()\n",
    "scaler.fit(train[lista2])\n",
    "train[lista2] = scaler.transform(train[lista2])\n",
    "test[lista2] = scaler.transform(test[lista2])\n",
    "\n",
    "from sklearn.neural_network import MLPClassifier\n",
    "mlp = MLPClassifier(hidden_layer_sizes=(6,6,6,6),solver='lbfgs',max_iter=600)\n",
    "mlp.fit(train[lista2], train[target])\n",
    "predictions = mlp.predict(test[lista2])\n",
    "\n",
    "from sklearn.metrics import classification_report\n",
    "print(classification_report(test[target],predictions))"
   ]
  },
  {
   "cell_type": "markdown",
   "metadata": {},
   "source": [
    "## Sitio de ocurrencia"
   ]
  },
  {
   "cell_type": "code",
   "execution_count": null,
   "metadata": {},
   "outputs": [],
   "source": [
    "try: \n",
    "    del df3,df4\n",
    "except:\n",
    "    print(\"Los data frames ya fueron reiniciados\")"
   ]
  },
  {
   "cell_type": "code",
   "execution_count": null,
   "metadata": {},
   "outputs": [],
   "source": [
    "target = \"ocur\"\n",
    "diccionario[target]"
   ]
  },
  {
   "cell_type": "code",
   "execution_count": null,
   "metadata": {},
   "outputs": [],
   "source": [
    "\n",
    "excepcion = \"areag\"\n",
    "lista=creacion_listas(target,excepcion,muchos_nas)\n",
    "lista2 = list(set(lista.copy()))\n",
    "print(lista2)\n",
    "\n",
    "df2_regresion = df2_encoder[lista2]\n",
    "try:\n",
    "    df2_regresion.dropna(axis = 0,inplace = True, how = 'any', subset = [excepcion])\n",
    "except:\n",
    "    print(\"\")\n",
    "df2_regresion.isna().sum()\n",
    "\n",
    "mask =df2_regresion[target].isna()\n",
    "\n",
    "Columnas_regresion=df2_regresion.columns.tolist()\n",
    "Columnas_x = Columnas_regresion.copy()\n",
    "Columnas_x.remove(target)\n",
    "\n",
    "df3 = df2_regresion[mask]\n",
    "df4 =  df2_regresion.drop(df2_regresion[mask].index)"
   ]
  },
  {
   "cell_type": "code",
   "execution_count": null,
   "metadata": {},
   "outputs": [],
   "source": [
    "train,test=train_test_split(df4, test_size = 0.2, random_state = 666)"
   ]
  },
  {
   "cell_type": "code",
   "execution_count": null,
   "metadata": {},
   "outputs": [],
   "source": [
    "try:\n",
    "    lista2.remove(target)\n",
    "except:\n",
    "    print(\"La variable: \"+target+\" ya fue removida\")"
   ]
  },
  {
   "cell_type": "markdown",
   "metadata": {},
   "source": [
    "## Random Forest"
   ]
  },
  {
   "cell_type": "code",
   "execution_count": null,
   "metadata": {},
   "outputs": [],
   "source": [
    "#rmf = RandomForestRegressor (n_estimators = 200, \n",
    "                             #random_state = 666,\n",
    "                            # )"
   ]
  },
  {
   "cell_type": "code",
   "execution_count": null,
   "metadata": {},
   "outputs": [],
   "source": [
    "#scores = cross_val_score(rmf,\n",
    "                        # train[lista2],\n",
    "                         #train[target],\n",
    "                         #cv=10)\n",
    "\n",
    "#print(\"%0.2f de presición con desviación estándar de %0.2f\" % (scores.mean(), scores.std()))"
   ]
  },
  {
   "cell_type": "code",
   "execution_count": null,
   "metadata": {},
   "outputs": [],
   "source": [
    "#rmf.fit(train[lista2], train[target])\n",
    "#y=rmf.predict(test[lista2])"
   ]
  },
  {
   "cell_type": "code",
   "execution_count": null,
   "metadata": {},
   "outputs": [],
   "source": [
    "#print(\"score para el set de entrenamiento\")\n",
    "#print(rmf.score(train[lista2], train[target]))\n",
    "#print(\"\")\n",
    "#print(\"score para el set de prueba\")\n",
    "#rmf.score(test[lista2], test[target])"
   ]
  },
  {
   "cell_type": "code",
   "execution_count": null,
   "metadata": {},
   "outputs": [],
   "source": [
    "#y=rmf.predict(test[lista2])\n",
    "#print(\"no normalizado\")\n",
    "#print(pd.crosstab(test[target],np.round(y),rownames = [\"Verdadero\"], colnames = [\"Prediccion\"], margins = True))\n",
    "#print(\"\")\n",
    "#print(\"***************\")\n",
    "#print(\"\")\n",
    "#print(\"normalizado\")\n",
    "#print(pd.crosstab(test[target],np.round(y), normalize = True,rownames = [\"Verdadero\"], colnames = [\"Prediccion\"]))"
   ]
  },
  {
   "cell_type": "markdown",
   "metadata": {},
   "source": [
    "## Regresión lógistica "
   ]
  },
  {
   "cell_type": "code",
   "execution_count": null,
   "metadata": {},
   "outputs": [],
   "source": [
    "modelo_logistico = LogisticRegression( fit_intercept = True,\n",
    "                                      solver = 'lbfgs',\n",
    "                                      random_state = 666, \n",
    "                                      warm_start = True, \n",
    "                                      penalty = 'l2' ,\n",
    "                                     n_jobs = -1)"
   ]
  },
  {
   "cell_type": "code",
   "execution_count": null,
   "metadata": {},
   "outputs": [],
   "source": [
    "warnings.filterwarnings(\"ignore\")\n",
    "scores = cross_val_score(modelo_logistico,\n",
    "                         train[lista2], \n",
    "                         train[target], \n",
    "                         cv=10)\n",
    "\n",
    "print(\"%0.2f de presición con desviación estándar de %0.2f\" % (scores.mean(), scores.std()))"
   ]
  },
  {
   "cell_type": "code",
   "execution_count": null,
   "metadata": {},
   "outputs": [],
   "source": [
    "modelo_logistico.fit(train[lista2], train[target])\n",
    "y_logistic=modelo_logistico.predict(test[lista2])"
   ]
  },
  {
   "cell_type": "code",
   "execution_count": null,
   "metadata": {},
   "outputs": [],
   "source": [
    "print(\"score para el set de entrenamiento\")\n",
    "print(modelo_logistico.score(train[lista2], train[target]))\n",
    "print(\"\")\n",
    "print(\"score para el set de prueba\")\n",
    "print(modelo_logistico.score(test[lista2], test[target]))"
   ]
  },
  {
   "cell_type": "code",
   "execution_count": null,
   "metadata": {},
   "outputs": [],
   "source": [
    "print(\"no normalizado\")\n",
    "print(pd.crosstab(test[target],np.round(y_logistic),rownames = [\"Verdadero\"], colnames = [\"Prediccion\"], margins = True))\n",
    "print(\"\")\n",
    "print(\"***************\")\n",
    "print(\"\")\n",
    "print(\"normalizado\")\n",
    "print(pd.crosstab(test[target],np.round(y_logistic), normalize = True,rownames = [\"Verdadero\"], colnames = [\"Prediccion\"],margins = True))"
   ]
  },
  {
   "cell_type": "markdown",
   "metadata": {},
   "source": [
    "## Árboles de decisión "
   ]
  },
  {
   "cell_type": "code",
   "execution_count": null,
   "metadata": {},
   "outputs": [],
   "source": [
    "tree_model = DecisionTreeClassifier(criterion='entropy',\n",
    "                                             min_samples_split=20,\n",
    "                                             min_samples_leaf=5,\n",
    "                                             random_state = 666)"
   ]
  },
  {
   "cell_type": "code",
   "execution_count": null,
   "metadata": {},
   "outputs": [],
   "source": [
    "scores = cross_val_score(tree_model,\n",
    "                         train[lista2], \n",
    "                         train[target], \n",
    "                         cv=10)\n",
    "\n",
    "print(\"%0.2f de presición con desviación estándar de %0.2f\" % (scores.mean(), scores.std()))"
   ]
  },
  {
   "cell_type": "code",
   "execution_count": null,
   "metadata": {},
   "outputs": [],
   "source": [
    "tree_model.fit(train[lista2], train[target])\n",
    "y_tree=tree_model.predict(test[lista2])"
   ]
  },
  {
   "cell_type": "code",
   "execution_count": null,
   "metadata": {},
   "outputs": [],
   "source": [
    "print(\"score para el set de entrenamiento\")\n",
    "print(tree_model.score(train[lista2], train[target]))\n",
    "print(\"\")\n",
    "print(\"score para el set de prueba\")\n",
    "print(tree_model.score(test[lista2], test[target]))"
   ]
  },
  {
   "cell_type": "code",
   "execution_count": null,
   "metadata": {},
   "outputs": [],
   "source": [
    "print(\"no normalizado\")\n",
    "print(pd.crosstab(test[target],np.round(y_tree),rownames = [\"Verdadero\"], colnames = [\"Prediccion\"], margins = True))\n",
    "print(\"\")\n",
    "print(\"***************\")\n",
    "print(\"\")\n",
    "print(\"normalizado\")\n",
    "print(pd.crosstab(test[target],np.round(y_tree), normalize = True,rownames = [\"Verdadero\"], colnames = [\"Prediccion\"],margins = True))"
   ]
  },
  {
   "cell_type": "markdown",
   "metadata": {},
   "source": [
    "## Naive-Bayes"
   ]
  },
  {
   "cell_type": "code",
   "execution_count": null,
   "metadata": {},
   "outputs": [],
   "source": [
    "nb=CategoricalNB()"
   ]
  },
  {
   "cell_type": "code",
   "execution_count": null,
   "metadata": {},
   "outputs": [],
   "source": [
    "scores = cross_val_score(nb,\n",
    "                         train[lista2], \n",
    "                         train[target], \n",
    "                         cv=10)\n",
    "\n",
    "print(\"%0.2f de presición con desviación estándar de %0.2f\" % (scores.mean(), scores.std()))"
   ]
  },
  {
   "cell_type": "code",
   "execution_count": null,
   "metadata": {},
   "outputs": [],
   "source": [
    "nb.fit(train[lista2], train[target])\n",
    "y_nb=nb.predict(test[lista2])"
   ]
  },
  {
   "cell_type": "code",
   "execution_count": null,
   "metadata": {},
   "outputs": [],
   "source": [
    "train.iloc[2729,:]"
   ]
  },
  {
   "cell_type": "code",
   "execution_count": null,
   "metadata": {},
   "outputs": [],
   "source": [
    "train.iloc[2728,:]"
   ]
  },
  {
   "cell_type": "code",
   "execution_count": null,
   "metadata": {},
   "outputs": [],
   "source": []
  },
  {
   "cell_type": "code",
   "execution_count": null,
   "metadata": {},
   "outputs": [],
   "source": [
    "print(\"score para el set de entrenamiento\")\n",
    "print(nb.score(train[lista2], train[target]))\n",
    "print(\"\")\n",
    "print(\"score para el set de prueba\")\n",
    "print(nb.score(test[lista2], test[target]))"
   ]
  },
  {
   "cell_type": "code",
   "execution_count": null,
   "metadata": {},
   "outputs": [],
   "source": [
    "print(\"no normalizado\")\n",
    "print(pd.crosstab(test[target],np.round(y_nb),rownames = [\"Verdadero\"], colnames = [\"Prediccion\"], margins = True))\n",
    "print(\"\")\n",
    "print(\"***************\")\n",
    "print(\"\")\n",
    "print(\"normalizado\")\n",
    "print(pd.crosstab(test[target],np.round(y_nb), normalize = True,rownames = [\"Verdadero\"], colnames = [\"Prediccion\"],margins = True))"
   ]
  },
  {
   "cell_type": "code",
   "execution_count": null,
   "metadata": {},
   "outputs": [],
   "source": []
  },
  {
   "cell_type": "markdown",
   "metadata": {
    "tags": []
   },
   "source": [
    "## Red Neuronal"
   ]
  },
  {
   "cell_type": "code",
   "execution_count": 73,
   "metadata": {},
   "outputs": [
    {
     "name": "stdout",
     "output_type": "stream",
     "text": [
      "              precision    recall  f1-score   support\n",
      "\n",
      "         1.0       0.63      0.93      0.75     40636\n",
      "         2.0       0.47      0.29      0.36     17170\n",
      "         3.0       0.00      0.00      0.00      3013\n",
      "         4.0       0.57      0.28      0.37      4165\n",
      "         5.0       0.50      0.25      0.33       959\n",
      "         6.0       0.00      0.00      0.00        21\n",
      "         9.0       0.00      0.00      0.00      7328\n",
      "\n",
      "    accuracy                           0.60     73292\n",
      "   macro avg       0.31      0.25      0.26     73292\n",
      "weighted avg       0.50      0.60      0.53     73292\n",
      "\n"
     ]
    }
   ],
   "source": [
    "from sklearn.model_selection import train_test_split\n",
    "df4 =  df2_regresion.drop(df2_regresion[mask].index)\n",
    "train, test = train_test_split(df4, test_size = 0.2, random_state = 666)\n",
    "\n",
    "from sklearn.preprocessing import StandardScaler\n",
    "scaler = StandardScaler()\n",
    "scaler.fit(train[lista2])\n",
    "train[lista2] = scaler.transform(train[lista2])\n",
    "test[lista2] = scaler.transform(test[lista2])\n",
    "\n",
    "from sklearn.neural_network import MLPClassifier\n",
    "mlp = MLPClassifier(hidden_layer_sizes=(6,6,6,6),solver='lbfgs',max_iter=600)\n",
    "mlp.fit(train[lista2], train[target])\n",
    "predictions = mlp.predict(test[lista2])\n",
    "\n",
    "from sklearn.metrics import classification_report\n",
    "print(classification_report(test[target],predictions))\n"
   ]
  },
  {
   "cell_type": "code",
   "execution_count": null,
   "metadata": {},
   "outputs": [],
   "source": []
  },
  {
   "cell_type": "code",
   "execution_count": null,
   "metadata": {},
   "outputs": [],
   "source": []
  }
 ],
 "metadata": {
  "kernelspec": {
   "display_name": "Python 3",
   "language": "python",
   "name": "python3"
  },
  "language_info": {
   "codemirror_mode": {
    "name": "ipython",
    "version": 3
   },
   "file_extension": ".py",
   "mimetype": "text/x-python",
   "name": "python",
   "nbconvert_exporter": "python",
   "pygments_lexer": "ipython3",
   "version": "3.8.8"
  }
 },
 "nbformat": 4,
 "nbformat_minor": 4
}
